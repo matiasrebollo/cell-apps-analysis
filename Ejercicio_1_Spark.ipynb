{
  "nbformat": 4,
  "nbformat_minor": 0,
  "metadata": {
    "colab": {
      "provenance": []
    },
    "kernelspec": {
      "name": "python3",
      "display_name": "Python 3"
    },
    "language_info": {
      "name": "python"
    }
  },
  "cells": [
    {
      "cell_type": "code",
      "execution_count": null,
      "metadata": {
        "colab": {
          "base_uri": "https://localhost:8080/"
        },
        "id": "rU1VuPd-Wn23",
        "outputId": "561e6abd-cd2f-4dae-8ccc-810168aef71c"
      },
      "outputs": [
        {
          "output_type": "stream",
          "name": "stdout",
          "text": [
            "Requirement already satisfied: pyspark in /usr/local/lib/python3.10/dist-packages (3.5.0)\n",
            "Requirement already satisfied: py4j==0.10.9.7 in /usr/local/lib/python3.10/dist-packages (from pyspark) (0.10.9.7)\n",
            "Hit:1 http://security.ubuntu.com/ubuntu jammy-security InRelease\n",
            "Hit:2 https://cloud.r-project.org/bin/linux/ubuntu jammy-cran40/ InRelease\n",
            "Hit:3 https://developer.download.nvidia.com/compute/cuda/repos/ubuntu2204/x86_64  InRelease\n",
            "Hit:4 http://archive.ubuntu.com/ubuntu jammy InRelease\n",
            "Get:5 http://archive.ubuntu.com/ubuntu jammy-updates InRelease [119 kB]\n",
            "Hit:6 https://ppa.launchpadcontent.net/c2d4u.team/c2d4u4.0+/ubuntu jammy InRelease\n",
            "Hit:7 http://archive.ubuntu.com/ubuntu jammy-backports InRelease\n",
            "Hit:8 https://ppa.launchpadcontent.net/deadsnakes/ppa/ubuntu jammy InRelease\n",
            "Hit:9 https://ppa.launchpadcontent.net/graphics-drivers/ppa/ubuntu jammy InRelease\n",
            "Hit:10 https://ppa.launchpadcontent.net/ubuntugis/ppa/ubuntu jammy InRelease\n",
            "Fetched 119 kB in 2s (56.1 kB/s)\n",
            "Reading package lists... Done\n",
            "Building dependency tree... Done\n",
            "Reading state information... Done\n",
            "18 packages can be upgraded. Run 'apt list --upgradable' to see them.\n",
            "openjdk-8-jdk-headless is already the newest version (8u382-ga-1~22.04.1).\n",
            "0 upgraded, 0 newly installed, 0 to remove and 18 not upgraded.\n"
          ]
        }
      ],
      "source": [
        "!pip install pyspark\n",
        "!pip install -U -q PyDrive\n",
        "!apt update\n",
        "!apt install openjdk-8-jdk-headless -qq\n",
        "#!apt install default-jre\n",
        "#!apt install default-jdk+\n",
        "import os\n",
        "os.environ[\"JAVA_HOME\"] = \"/usr/lib/jvm/java-8-openjdk-amd64\""
      ]
    },
    {
      "cell_type": "code",
      "source": [
        "from pydrive.auth import GoogleAuth\n",
        "from pydrive.drive import GoogleDrive\n",
        "from google.colab import auth\n",
        "from oauth2client.client import GoogleCredentials\n",
        "from pyspark.sql import *\n",
        "from pyspark.sql.functions import *\n",
        "from pyspark import SparkContext\n",
        "from pyspark.sql import SQLContext"
      ],
      "metadata": {
        "id": "wMrSXUWiczrG"
      },
      "execution_count": null,
      "outputs": []
    },
    {
      "cell_type": "code",
      "source": [
        "auth.authenticate_user()\n",
        "gauth = GoogleAuth()\n",
        "gauth.credentials = GoogleCredentials.get_application_default()\n",
        "drive = GoogleDrive(gauth)"
      ],
      "metadata": {
        "id": "AQWSjrDxc7CN"
      },
      "execution_count": null,
      "outputs": []
    },
    {
      "cell_type": "code",
      "source": [
        "# https://drive.google.com/file/d/1jU38cWxHrKGLg1nWO_wW8031z7d1HpnO/view?usp=drive_link\n",
        "\n",
        "id='1jU38cWxHrKGLg1nWO_wW8031z7d1HpnO'\n",
        "downloaded = drive.CreateFile({'id': id})\n",
        "downloaded.GetContentFile('googleplaystore.csv')"
      ],
      "metadata": {
        "id": "XYSf0x6KdSkU"
      },
      "execution_count": null,
      "outputs": []
    },
    {
      "cell_type": "code",
      "source": [
        "spark = SparkSession.builder.getOrCreate()\n",
        "sc = spark.sparkContext"
      ],
      "metadata": {
        "id": "kfCaRGZ0dic0"
      },
      "execution_count": null,
      "outputs": []
    },
    {
      "cell_type": "code",
      "source": [
        "sqlContext = SQLContext(sc)\n",
        "df = sqlContext.read.option(\"delimiter\", \",\").option(\"escape\", '\"').csv('googleplaystore.csv', header=True, inferSchema=True)"
      ],
      "metadata": {
        "colab": {
          "base_uri": "https://localhost:8080/"
        },
        "id": "NzgB3DrRdu5s",
        "outputId": "8f753a1f-e765-41a9-dc2b-c4a89a0f2fb3"
      },
      "execution_count": null,
      "outputs": [
        {
          "output_type": "stream",
          "name": "stderr",
          "text": [
            "/usr/local/lib/python3.10/dist-packages/pyspark/sql/context.py:113: FutureWarning: Deprecated in 3.0.0. Use SparkSession.builder.getOrCreate() instead.\n",
            "  warnings.warn(\n"
          ]
        }
      ]
    },
    {
      "cell_type": "markdown",
      "source": [
        "Desde los ejercicios de pandas sabemos que hay una linea con Rating 19 (mal cargada), lo cual no es posible, la sacamos"
      ],
      "metadata": {
        "id": "YdHh-fAGnepg"
      }
    },
    {
      "cell_type": "code",
      "source": [
        "rdd = df.rdd.filter(lambda x: x.App != \"Life Made WI-Fi Touchscreen Photo Frame\").cache()"
      ],
      "metadata": {
        "id": "Z7o6GcVqncuh"
      },
      "execution_count": null,
      "outputs": []
    },
    {
      "cell_type": "markdown",
      "source": [
        "Vemos un poco como se presentan los datos del registro"
      ],
      "metadata": {
        "id": "jj90nh4_njFX"
      }
    },
    {
      "cell_type": "code",
      "source": [
        "rdd.take(5)"
      ],
      "metadata": {
        "colab": {
          "base_uri": "https://localhost:8080/"
        },
        "id": "hrjD7eFgd5dU",
        "outputId": "d7057ffd-926d-4914-b5a1-384a8fb7c4a9"
      },
      "execution_count": null,
      "outputs": [
        {
          "output_type": "execute_result",
          "data": {
            "text/plain": [
              "[Row(App='Photo Editor & Candy Camera & Grid & ScrapBook', Category='ART_AND_DESIGN', Rating=4.1, Reviews='159', Size='19M', Installs='10,000+', Type='Free', Price='0', Content Rating='Everyone', Genres='Art & Design', Last Updated='January 7, 2018', Current Ver='1.0.0', Android Ver='4.0.3 and up'),\n",
              " Row(App='Coloring book moana', Category='ART_AND_DESIGN', Rating=3.9, Reviews='967', Size='14M', Installs='500,000+', Type='Free', Price='0', Content Rating='Everyone', Genres='Art & Design;Pretend Play', Last Updated='January 15, 2018', Current Ver='2.0.0', Android Ver='4.0.3 and up'),\n",
              " Row(App='U Launcher Lite – FREE Live Cool Themes, Hide Apps', Category='ART_AND_DESIGN', Rating=4.7, Reviews='87510', Size='8.7M', Installs='5,000,000+', Type='Free', Price='0', Content Rating='Everyone', Genres='Art & Design', Last Updated='August 1, 2018', Current Ver='1.2.4', Android Ver='4.0.3 and up'),\n",
              " Row(App='Sketch - Draw & Paint', Category='ART_AND_DESIGN', Rating=4.5, Reviews='215644', Size='25M', Installs='50,000,000+', Type='Free', Price='0', Content Rating='Teen', Genres='Art & Design', Last Updated='June 8, 2018', Current Ver='Varies with device', Android Ver='4.2 and up'),\n",
              " Row(App='Pixel Draw - Number Art Coloring Book', Category='ART_AND_DESIGN', Rating=4.3, Reviews='967', Size='2.8M', Installs='100,000+', Type='Free', Price='0', Content Rating='Everyone', Genres='Art & Design;Creativity', Last Updated='June 20, 2018', Current Ver='1.1', Android Ver='4.4 and up')]"
            ]
          },
          "metadata": {},
          "execution_count": 31
        }
      ]
    },
    {
      "cell_type": "markdown",
      "source": [
        "Vemos que hay apps repetidas"
      ],
      "metadata": {
        "id": "WQnf6kshYwO4"
      }
    },
    {
      "cell_type": "code",
      "source": [
        "aux = rdd.map(lambda x: (x[0], 1)).reduceByKey(lambda x, y: x + y)\n",
        "aux1 = aux.filter(lambda x: x[1] > 1)\n",
        "aux1.count()"
      ],
      "metadata": {
        "colab": {
          "base_uri": "https://localhost:8080/"
        },
        "id": "0e7EshtKXa2w",
        "outputId": "619e6cda-bb30-4910-efe4-1810e4b4c2da"
      },
      "execution_count": null,
      "outputs": [
        {
          "output_type": "execute_result",
          "data": {
            "text/plain": [
              "798"
            ]
          },
          "metadata": {},
          "execution_count": 32
        }
      ]
    },
    {
      "cell_type": "markdown",
      "source": [
        "En mi criterio las sacamos"
      ],
      "metadata": {
        "id": "cI_Oo7Cznntn"
      }
    },
    {
      "cell_type": "code",
      "source": [
        "rdd1 = rdd.map(lambda x: (x[0], x)).reduceByKey(lambda x, y: x)\n",
        "rdd1.take(5)"
      ],
      "metadata": {
        "colab": {
          "base_uri": "https://localhost:8080/"
        },
        "id": "-NTDZLaAz9vN",
        "outputId": "34cf0ee9-e5a2-41f7-8c8f-f7b28c8b3215"
      },
      "execution_count": null,
      "outputs": [
        {
          "output_type": "execute_result",
          "data": {
            "text/plain": [
              "[('Photo Editor & Candy Camera & Grid & ScrapBook',\n",
              "  Row(App='Photo Editor & Candy Camera & Grid & ScrapBook', Category='ART_AND_DESIGN', Rating=4.1, Reviews='159', Size='19M', Installs='10,000+', Type='Free', Price='0', Content Rating='Everyone', Genres='Art & Design', Last Updated='January 7, 2018', Current Ver='1.0.0', Android Ver='4.0.3 and up')),\n",
              " ('Coloring book moana',\n",
              "  Row(App='Coloring book moana', Category='ART_AND_DESIGN', Rating=3.9, Reviews='967', Size='14M', Installs='500,000+', Type='Free', Price='0', Content Rating='Everyone', Genres='Art & Design;Pretend Play', Last Updated='January 15, 2018', Current Ver='2.0.0', Android Ver='4.0.3 and up')),\n",
              " ('U Launcher Lite – FREE Live Cool Themes, Hide Apps',\n",
              "  Row(App='U Launcher Lite – FREE Live Cool Themes, Hide Apps', Category='ART_AND_DESIGN', Rating=4.7, Reviews='87510', Size='8.7M', Installs='5,000,000+', Type='Free', Price='0', Content Rating='Everyone', Genres='Art & Design', Last Updated='August 1, 2018', Current Ver='1.2.4', Android Ver='4.0.3 and up')),\n",
              " ('Sketch - Draw & Paint',\n",
              "  Row(App='Sketch - Draw & Paint', Category='ART_AND_DESIGN', Rating=4.5, Reviews='215644', Size='25M', Installs='50,000,000+', Type='Free', Price='0', Content Rating='Teen', Genres='Art & Design', Last Updated='June 8, 2018', Current Ver='Varies with device', Android Ver='4.2 and up')),\n",
              " ('Pixel Draw - Number Art Coloring Book',\n",
              "  Row(App='Pixel Draw - Number Art Coloring Book', Category='ART_AND_DESIGN', Rating=4.3, Reviews='967', Size='2.8M', Installs='100,000+', Type='Free', Price='0', Content Rating='Everyone', Genres='Art & Design;Creativity', Last Updated='June 20, 2018', Current Ver='1.1', Android Ver='4.4 and up'))]"
            ]
          },
          "metadata": {},
          "execution_count": 33
        }
      ]
    },
    {
      "cell_type": "markdown",
      "source": [
        "Nos quedamos unicamente con la categoria de la app como key y como valor una tupla de la cantidad de reviews de la app (convertida en entero)\n",
        "con un numero 1, que nos ayudara luego a calcular la cantidad de apps por categoria."
      ],
      "metadata": {
        "id": "W_p_gR4gnuBZ"
      }
    },
    {
      "cell_type": "code",
      "source": [
        "rdd2 = rdd1.map(lambda x: (x[1][1], (int(x[1][3]), 1)))\n",
        "rdd2.take(5)"
      ],
      "metadata": {
        "colab": {
          "base_uri": "https://localhost:8080/"
        },
        "id": "KX1frSt1hnv9",
        "outputId": "8b63846b-da7b-4327-a7f4-4b2be5d6e2d2"
      },
      "execution_count": null,
      "outputs": [
        {
          "output_type": "execute_result",
          "data": {
            "text/plain": [
              "[('ART_AND_DESIGN', (159, 1)),\n",
              " ('ART_AND_DESIGN', (967, 1)),\n",
              " ('ART_AND_DESIGN', (87510, 1)),\n",
              " ('ART_AND_DESIGN', (215644, 1)),\n",
              " ('ART_AND_DESIGN', (967, 1))]"
            ]
          },
          "metadata": {},
          "execution_count": 34
        }
      ]
    },
    {
      "cell_type": "markdown",
      "source": [
        "Por categoria, sumamos la cantidad de reviews de cada app, y los 1, para saber la cantidad de apps de esa categoria"
      ],
      "metadata": {
        "id": "Zim_xau_n54_"
      }
    },
    {
      "cell_type": "code",
      "source": [
        "rdd3 = rdd2.reduceByKey(lambda a, b : (a[0] + b[0], a[1] + b[1]))\n",
        "rdd3.take(5)"
      ],
      "metadata": {
        "colab": {
          "base_uri": "https://localhost:8080/"
        },
        "id": "hYXDo9XipE2R",
        "outputId": "a966c2d8-fedd-48d4-d47a-2278a3621c43"
      },
      "execution_count": null,
      "outputs": [
        {
          "output_type": "execute_result",
          "data": {
            "text/plain": [
              "[('ART_AND_DESIGN', (1419203, 64)),\n",
              " ('AUTO_AND_VEHICLES', (1163666, 85)),\n",
              " ('BEAUTY', (396240, 53)),\n",
              " ('BOOKS_AND_REFERENCE', (16721314, 222)),\n",
              " ('BUSINESS', (9890245, 420))]"
            ]
          },
          "metadata": {},
          "execution_count": 35
        }
      ]
    },
    {
      "cell_type": "markdown",
      "source": [
        "Calculamos el promedio de reviews de cada categoria"
      ],
      "metadata": {
        "id": "5RsHPyi0oPeB"
      }
    },
    {
      "cell_type": "code",
      "source": [
        "rdd4 = rdd3.map(lambda x: (x[0], x[1][0] / x[1][1]))\n",
        "rdd4.take(5)"
      ],
      "metadata": {
        "colab": {
          "base_uri": "https://localhost:8080/"
        },
        "id": "ZK7o7XwvpUU-",
        "outputId": "39abc491-2d4a-4e38-b7c5-41371695cc81"
      },
      "execution_count": null,
      "outputs": [
        {
          "output_type": "execute_result",
          "data": {
            "text/plain": [
              "[('ART_AND_DESIGN', 22175.046875),\n",
              " ('AUTO_AND_VEHICLES', 13690.188235294117),\n",
              " ('BEAUTY', 7476.226415094339),\n",
              " ('BOOKS_AND_REFERENCE', 75321.23423423423),\n",
              " ('BUSINESS', 23548.20238095238)]"
            ]
          },
          "metadata": {},
          "execution_count": 36
        }
      ]
    },
    {
      "cell_type": "markdown",
      "source": [
        "Y por ultimo nos quedamos con aquella categoria cuyo promedio de reviews sea mayor"
      ],
      "metadata": {
        "id": "0Sfg-WuUoTqg"
      }
    },
    {
      "cell_type": "code",
      "source": [
        "rdd5 = rdd4.reduce(lambda a, b: a if a[1] > b[1] else b)\n",
        "rdd5"
      ],
      "metadata": {
        "colab": {
          "base_uri": "https://localhost:8080/"
        },
        "id": "6P53qoTLpbRl",
        "outputId": "1cca213d-5fcc-470d-a32f-66ec703b363c"
      },
      "execution_count": null,
      "outputs": [
        {
          "output_type": "execute_result",
          "data": {
            "text/plain": [
              "('SOCIAL', 953672.8075313808)"
            ]
          },
          "metadata": {},
          "execution_count": 37
        }
      ]
    }
  ]
}