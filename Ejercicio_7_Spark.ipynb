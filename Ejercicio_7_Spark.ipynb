{
  "nbformat": 4,
  "nbformat_minor": 0,
  "metadata": {
    "colab": {
      "provenance": []
    },
    "kernelspec": {
      "name": "python3",
      "display_name": "Python 3"
    },
    "language_info": {
      "name": "python"
    }
  },
  "cells": [
    {
      "cell_type": "code",
      "execution_count": null,
      "metadata": {
        "colab": {
          "base_uri": "https://localhost:8080/"
        },
        "id": "s8ezBheUxJIx",
        "outputId": "fb1b4594-6027-40f7-c2bb-c539bcf15e13"
      },
      "outputs": [
        {
          "output_type": "stream",
          "name": "stdout",
          "text": [
            "Collecting pyspark\n",
            "  Downloading pyspark-3.5.0.tar.gz (316.9 MB)\n",
            "\u001b[2K     \u001b[90m━━━━━━━━━━━━━━━━━━━━━━━━━━━━━━━━━━━━━━━\u001b[0m \u001b[32m316.9/316.9 MB\u001b[0m \u001b[31m2.7 MB/s\u001b[0m eta \u001b[36m0:00:00\u001b[0m\n",
            "\u001b[?25h  Preparing metadata (setup.py) ... \u001b[?25l\u001b[?25hdone\n",
            "Requirement already satisfied: py4j==0.10.9.7 in /usr/local/lib/python3.10/dist-packages (from pyspark) (0.10.9.7)\n",
            "Building wheels for collected packages: pyspark\n",
            "  Building wheel for pyspark (setup.py) ... \u001b[?25l\u001b[?25hdone\n",
            "  Created wheel for pyspark: filename=pyspark-3.5.0-py2.py3-none-any.whl size=317425344 sha256=6a83a9ecc59cda4df4ac04e3b694ccaaa71a60eee70bbc31050e7bbdcd2f0429\n",
            "  Stored in directory: /root/.cache/pip/wheels/41/4e/10/c2cf2467f71c678cfc8a6b9ac9241e5e44a01940da8fbb17fc\n",
            "Successfully built pyspark\n",
            "Installing collected packages: pyspark\n",
            "Successfully installed pyspark-3.5.0\n",
            "Get:1 https://cloud.r-project.org/bin/linux/ubuntu jammy-cran40/ InRelease [3,626 B]\n",
            "Hit:2 https://developer.download.nvidia.com/compute/cuda/repos/ubuntu2204/x86_64  InRelease\n",
            "Get:3 http://security.ubuntu.com/ubuntu jammy-security InRelease [110 kB]\n",
            "Hit:4 http://archive.ubuntu.com/ubuntu jammy InRelease\n",
            "Get:5 http://archive.ubuntu.com/ubuntu jammy-updates InRelease [119 kB]\n",
            "Hit:6 https://ppa.launchpadcontent.net/c2d4u.team/c2d4u4.0+/ubuntu jammy InRelease\n",
            "Get:7 http://archive.ubuntu.com/ubuntu jammy-backports InRelease [109 kB]\n",
            "Hit:8 https://ppa.launchpadcontent.net/deadsnakes/ppa/ubuntu jammy InRelease\n",
            "Get:9 http://archive.ubuntu.com/ubuntu jammy-updates/universe amd64 Packages [1,266 kB]\n",
            "Get:10 http://archive.ubuntu.com/ubuntu jammy-updates/main amd64 Packages [1,342 kB]\n",
            "Hit:11 https://ppa.launchpadcontent.net/graphics-drivers/ppa/ubuntu jammy InRelease\n",
            "Hit:12 https://ppa.launchpadcontent.net/ubuntugis/ppa/ubuntu jammy InRelease\n",
            "Fetched 2,950 kB in 2s (1,374 kB/s)\n",
            "Reading package lists... Done\n",
            "Building dependency tree... Done\n",
            "Reading state information... Done\n",
            "18 packages can be upgraded. Run 'apt list --upgradable' to see them.\n",
            "The following additional packages will be installed:\n",
            "  libxtst6 openjdk-8-jre-headless\n",
            "Suggested packages:\n",
            "  openjdk-8-demo openjdk-8-source libnss-mdns fonts-dejavu-extra fonts-nanum\n",
            "  fonts-ipafont-gothic fonts-ipafont-mincho fonts-wqy-microhei\n",
            "  fonts-wqy-zenhei fonts-indic\n",
            "The following NEW packages will be installed:\n",
            "  libxtst6 openjdk-8-jdk-headless openjdk-8-jre-headless\n",
            "0 upgraded, 3 newly installed, 0 to remove and 18 not upgraded.\n",
            "Need to get 39.7 MB of archives.\n",
            "After this operation, 144 MB of additional disk space will be used.\n",
            "Selecting previously unselected package libxtst6:amd64.\n",
            "(Reading database ... 120875 files and directories currently installed.)\n",
            "Preparing to unpack .../libxtst6_2%3a1.2.3-1build4_amd64.deb ...\n",
            "Unpacking libxtst6:amd64 (2:1.2.3-1build4) ...\n",
            "Selecting previously unselected package openjdk-8-jre-headless:amd64.\n",
            "Preparing to unpack .../openjdk-8-jre-headless_8u382-ga-1~22.04.1_amd64.deb ...\n",
            "Unpacking openjdk-8-jre-headless:amd64 (8u382-ga-1~22.04.1) ...\n",
            "Selecting previously unselected package openjdk-8-jdk-headless:amd64.\n",
            "Preparing to unpack .../openjdk-8-jdk-headless_8u382-ga-1~22.04.1_amd64.deb ...\n",
            "Unpacking openjdk-8-jdk-headless:amd64 (8u382-ga-1~22.04.1) ...\n",
            "Setting up libxtst6:amd64 (2:1.2.3-1build4) ...\n",
            "Setting up openjdk-8-jre-headless:amd64 (8u382-ga-1~22.04.1) ...\n",
            "update-alternatives: using /usr/lib/jvm/java-8-openjdk-amd64/jre/bin/orbd to provide /usr/bin/orbd (orbd) in auto mode\n",
            "update-alternatives: using /usr/lib/jvm/java-8-openjdk-amd64/jre/bin/servertool to provide /usr/bin/servertool (servertool) in auto mode\n",
            "update-alternatives: using /usr/lib/jvm/java-8-openjdk-amd64/jre/bin/tnameserv to provide /usr/bin/tnameserv (tnameserv) in auto mode\n",
            "Setting up openjdk-8-jdk-headless:amd64 (8u382-ga-1~22.04.1) ...\n",
            "update-alternatives: using /usr/lib/jvm/java-8-openjdk-amd64/bin/clhsdb to provide /usr/bin/clhsdb (clhsdb) in auto mode\n",
            "update-alternatives: using /usr/lib/jvm/java-8-openjdk-amd64/bin/extcheck to provide /usr/bin/extcheck (extcheck) in auto mode\n",
            "update-alternatives: using /usr/lib/jvm/java-8-openjdk-amd64/bin/hsdb to provide /usr/bin/hsdb (hsdb) in auto mode\n",
            "update-alternatives: using /usr/lib/jvm/java-8-openjdk-amd64/bin/idlj to provide /usr/bin/idlj (idlj) in auto mode\n",
            "update-alternatives: using /usr/lib/jvm/java-8-openjdk-amd64/bin/javah to provide /usr/bin/javah (javah) in auto mode\n",
            "update-alternatives: using /usr/lib/jvm/java-8-openjdk-amd64/bin/jhat to provide /usr/bin/jhat (jhat) in auto mode\n",
            "update-alternatives: using /usr/lib/jvm/java-8-openjdk-amd64/bin/jsadebugd to provide /usr/bin/jsadebugd (jsadebugd) in auto mode\n",
            "update-alternatives: using /usr/lib/jvm/java-8-openjdk-amd64/bin/native2ascii to provide /usr/bin/native2ascii (native2ascii) in auto mode\n",
            "update-alternatives: using /usr/lib/jvm/java-8-openjdk-amd64/bin/schemagen to provide /usr/bin/schemagen (schemagen) in auto mode\n",
            "update-alternatives: using /usr/lib/jvm/java-8-openjdk-amd64/bin/wsgen to provide /usr/bin/wsgen (wsgen) in auto mode\n",
            "update-alternatives: using /usr/lib/jvm/java-8-openjdk-amd64/bin/wsimport to provide /usr/bin/wsimport (wsimport) in auto mode\n",
            "update-alternatives: using /usr/lib/jvm/java-8-openjdk-amd64/bin/xjc to provide /usr/bin/xjc (xjc) in auto mode\n",
            "Processing triggers for libc-bin (2.35-0ubuntu3.1) ...\n",
            "/sbin/ldconfig.real: /usr/local/lib/libtbbmalloc.so.2 is not a symbolic link\n",
            "\n",
            "/sbin/ldconfig.real: /usr/local/lib/libtbbmalloc_proxy.so.2 is not a symbolic link\n",
            "\n",
            "/sbin/ldconfig.real: /usr/local/lib/libtbbbind_2_0.so.3 is not a symbolic link\n",
            "\n",
            "/sbin/ldconfig.real: /usr/local/lib/libtbbbind_2_5.so.3 is not a symbolic link\n",
            "\n",
            "/sbin/ldconfig.real: /usr/local/lib/libtbbbind.so.3 is not a symbolic link\n",
            "\n",
            "/sbin/ldconfig.real: /usr/local/lib/libtbb.so.12 is not a symbolic link\n",
            "\n"
          ]
        }
      ],
      "source": [
        "!pip install pyspark\n",
        "!pip install -U -q PyDrive\n",
        "!apt update\n",
        "!apt install openjdk-8-jdk-headless -qq\n",
        "#!apt install default-jre\n",
        "#!apt install default-jdk+\n",
        "import os\n",
        "os.environ[\"JAVA_HOME\"] = \"/usr/lib/jvm/java-8-openjdk-amd64\""
      ]
    },
    {
      "cell_type": "code",
      "source": [
        "from pydrive.auth import GoogleAuth\n",
        "from pydrive.drive import GoogleDrive\n",
        "from google.colab import auth\n",
        "from oauth2client.client import GoogleCredentials\n",
        "from pyspark.sql import *\n",
        "from pyspark.sql.functions import *\n",
        "from pyspark import SparkContext\n",
        "from pyspark.sql import SQLContext\n",
        "import math"
      ],
      "metadata": {
        "id": "HyZZejzsyNW2"
      },
      "execution_count": null,
      "outputs": []
    },
    {
      "cell_type": "code",
      "source": [
        "auth.authenticate_user()\n",
        "gauth = GoogleAuth()\n",
        "gauth.credentials = GoogleCredentials.get_application_default()\n",
        "drive = GoogleDrive(gauth)"
      ],
      "metadata": {
        "id": "VhpmnLpcyO81"
      },
      "execution_count": null,
      "outputs": []
    },
    {
      "cell_type": "code",
      "source": [
        "# https://drive.google.com/file/d/1jU38cWxHrKGLg1nWO_wW8031z7d1HpnO/view?usp=drive_link\n",
        "\n",
        "id='1jU38cWxHrKGLg1nWO_wW8031z7d1HpnO'\n",
        "downloaded = drive.CreateFile({'id': id})\n",
        "downloaded.GetContentFile('googleplaystore.csv')"
      ],
      "metadata": {
        "id": "3kIDBXPDyxIM"
      },
      "execution_count": null,
      "outputs": []
    },
    {
      "cell_type": "code",
      "source": [
        "spark = SparkSession.builder.getOrCreate()\n",
        "sc = spark.sparkContext"
      ],
      "metadata": {
        "id": "zZVhhsnFyzG0"
      },
      "execution_count": null,
      "outputs": []
    },
    {
      "cell_type": "code",
      "source": [
        "sqlContext = SQLContext(sc)\n",
        "df = sqlContext.read.option(\"delimiter\", \",\").option(\"escape\", '\"').csv('googleplaystore.csv', header=True, inferSchema=True)"
      ],
      "metadata": {
        "colab": {
          "base_uri": "https://localhost:8080/"
        },
        "id": "7fxEbcX3y3Zl",
        "outputId": "957f6bbd-57de-425e-c780-1b4d449d6d1a"
      },
      "execution_count": null,
      "outputs": [
        {
          "output_type": "stream",
          "name": "stderr",
          "text": [
            "/usr/local/lib/python3.10/dist-packages/pyspark/sql/context.py:113: FutureWarning: Deprecated in 3.0.0. Use SparkSession.builder.getOrCreate() instead.\n",
            "  warnings.warn(\n"
          ]
        }
      ]
    },
    {
      "cell_type": "markdown",
      "source": [
        "Desde los ejercicios de pandas sabemos que hay una linea con Rating 19, lo cual no es posible, la sacamos"
      ],
      "metadata": {
        "id": "kb-qu0v1kQjV"
      }
    },
    {
      "cell_type": "code",
      "source": [
        "rdd = df.rdd.filter(lambda x: x.App != \"Life Made WI-Fi Touchscreen Photo Frame\").cache()"
      ],
      "metadata": {
        "id": "5mTwPVQUkNUv"
      },
      "execution_count": null,
      "outputs": []
    },
    {
      "cell_type": "markdown",
      "source": [
        "Vemos un poco como se presentan los datos del registro"
      ],
      "metadata": {
        "id": "mNi_nhv1kZf-"
      }
    },
    {
      "cell_type": "code",
      "source": [
        "rdd.take(5)"
      ],
      "metadata": {
        "colab": {
          "base_uri": "https://localhost:8080/"
        },
        "id": "05HxXWyrzHim",
        "outputId": "dd607282-46ef-418f-af3c-4836e3847d2b"
      },
      "execution_count": null,
      "outputs": [
        {
          "output_type": "execute_result",
          "data": {
            "text/plain": [
              "[Row(App='Photo Editor & Candy Camera & Grid & ScrapBook', Category='ART_AND_DESIGN', Rating=4.1, Reviews='159', Size='19M', Installs='10,000+', Type='Free', Price='0', Content Rating='Everyone', Genres='Art & Design', Last Updated='January 7, 2018', Current Ver='1.0.0', Android Ver='4.0.3 and up'),\n",
              " Row(App='Coloring book moana', Category='ART_AND_DESIGN', Rating=3.9, Reviews='967', Size='14M', Installs='500,000+', Type='Free', Price='0', Content Rating='Everyone', Genres='Art & Design;Pretend Play', Last Updated='January 15, 2018', Current Ver='2.0.0', Android Ver='4.0.3 and up'),\n",
              " Row(App='U Launcher Lite – FREE Live Cool Themes, Hide Apps', Category='ART_AND_DESIGN', Rating=4.7, Reviews='87510', Size='8.7M', Installs='5,000,000+', Type='Free', Price='0', Content Rating='Everyone', Genres='Art & Design', Last Updated='August 1, 2018', Current Ver='1.2.4', Android Ver='4.0.3 and up'),\n",
              " Row(App='Sketch - Draw & Paint', Category='ART_AND_DESIGN', Rating=4.5, Reviews='215644', Size='25M', Installs='50,000,000+', Type='Free', Price='0', Content Rating='Teen', Genres='Art & Design', Last Updated='June 8, 2018', Current Ver='Varies with device', Android Ver='4.2 and up'),\n",
              " Row(App='Pixel Draw - Number Art Coloring Book', Category='ART_AND_DESIGN', Rating=4.3, Reviews='967', Size='2.8M', Installs='100,000+', Type='Free', Price='0', Content Rating='Everyone', Genres='Art & Design;Creativity', Last Updated='June 20, 2018', Current Ver='1.1', Android Ver='4.4 and up')]"
            ]
          },
          "metadata": {},
          "execution_count": 8
        }
      ]
    },
    {
      "cell_type": "markdown",
      "source": [
        "Vemos que hay apps repetidas"
      ],
      "metadata": {
        "id": "DqHCk29caa4w"
      }
    },
    {
      "cell_type": "code",
      "source": [
        "aux = rdd.map(lambda x: (x[0], 1)).reduceByKey(lambda x, y: x + y)\n",
        "aux1 = aux.filter(lambda x: x[1] > 1)\n",
        "aux1.count()"
      ],
      "metadata": {
        "id": "Ntinfu5IaYqh",
        "colab": {
          "base_uri": "https://localhost:8080/"
        },
        "outputId": "31a88bcd-139c-40f8-c7e5-4b73f051ca0c"
      },
      "execution_count": null,
      "outputs": [
        {
          "output_type": "execute_result",
          "data": {
            "text/plain": [
              "798"
            ]
          },
          "metadata": {},
          "execution_count": 9
        }
      ]
    },
    {
      "cell_type": "markdown",
      "source": [
        "En mi criterio las sacamos"
      ],
      "metadata": {
        "id": "OczlPlfnkrsW"
      }
    },
    {
      "cell_type": "code",
      "source": [
        "rdd1 = rdd.map(lambda x: (x[0], x)).reduceByKey(lambda x, y: x)\n",
        "rdd1.take(5)"
      ],
      "metadata": {
        "colab": {
          "base_uri": "https://localhost:8080/"
        },
        "id": "MTPGhGdXzNm9",
        "outputId": "57d4e2a8-ae31-42a3-b551-704e70c29baf"
      },
      "execution_count": null,
      "outputs": [
        {
          "output_type": "execute_result",
          "data": {
            "text/plain": [
              "[('Photo Editor & Candy Camera & Grid & ScrapBook',\n",
              "  Row(App='Photo Editor & Candy Camera & Grid & ScrapBook', Category='ART_AND_DESIGN', Rating=4.1, Reviews='159', Size='19M', Installs='10,000+', Type='Free', Price='0', Content Rating='Everyone', Genres='Art & Design', Last Updated='January 7, 2018', Current Ver='1.0.0', Android Ver='4.0.3 and up')),\n",
              " ('Coloring book moana',\n",
              "  Row(App='Coloring book moana', Category='ART_AND_DESIGN', Rating=3.9, Reviews='967', Size='14M', Installs='500,000+', Type='Free', Price='0', Content Rating='Everyone', Genres='Art & Design;Pretend Play', Last Updated='January 15, 2018', Current Ver='2.0.0', Android Ver='4.0.3 and up')),\n",
              " ('U Launcher Lite – FREE Live Cool Themes, Hide Apps',\n",
              "  Row(App='U Launcher Lite – FREE Live Cool Themes, Hide Apps', Category='ART_AND_DESIGN', Rating=4.7, Reviews='87510', Size='8.7M', Installs='5,000,000+', Type='Free', Price='0', Content Rating='Everyone', Genres='Art & Design', Last Updated='August 1, 2018', Current Ver='1.2.4', Android Ver='4.0.3 and up')),\n",
              " ('Sketch - Draw & Paint',\n",
              "  Row(App='Sketch - Draw & Paint', Category='ART_AND_DESIGN', Rating=4.5, Reviews='215644', Size='25M', Installs='50,000,000+', Type='Free', Price='0', Content Rating='Teen', Genres='Art & Design', Last Updated='June 8, 2018', Current Ver='Varies with device', Android Ver='4.2 and up')),\n",
              " ('Pixel Draw - Number Art Coloring Book',\n",
              "  Row(App='Pixel Draw - Number Art Coloring Book', Category='ART_AND_DESIGN', Rating=4.3, Reviews='967', Size='2.8M', Installs='100,000+', Type='Free', Price='0', Content Rating='Everyone', Genres='Art & Design;Creativity', Last Updated='June 20, 2018', Current Ver='1.1', Android Ver='4.4 and up'))]"
            ]
          },
          "metadata": {},
          "execution_count": 10
        }
      ]
    },
    {
      "cell_type": "markdown",
      "source": [
        "Nos quedamos unicamente con aquellas apps que en el nombre tengan la palabra FREE. Cacheamos ya que hacemos dos operaciones"
      ],
      "metadata": {
        "id": "k84y5nPjlDiV"
      }
    },
    {
      "cell_type": "code",
      "source": [
        "rdd2 = rdd1.filter(lambda x: \"FREE\" in x[0]).cache()\n",
        "rdd2.count()"
      ],
      "metadata": {
        "colab": {
          "base_uri": "https://localhost:8080/"
        },
        "id": "v7BLiY3aK6Rb",
        "outputId": "aa6f859e-a245-4ffb-8d35-ffe89dc3aaff"
      },
      "execution_count": null,
      "outputs": [
        {
          "output_type": "execute_result",
          "data": {
            "text/plain": [
              "43"
            ]
          },
          "metadata": {},
          "execution_count": 11
        }
      ]
    },
    {
      "cell_type": "markdown",
      "source": [
        "Nos quedamos unicamente con el nombre de la app y su rating. Hacemos collect porque sabemos que son pocas"
      ],
      "metadata": {
        "id": "uz5KHJ8dlayH"
      }
    },
    {
      "cell_type": "code",
      "source": [
        "rdd3 = rdd2.map(lambda x: (x[0], x[1][2]))\n",
        "rdd3.collect()"
      ],
      "metadata": {
        "colab": {
          "base_uri": "https://localhost:8080/"
        },
        "id": "W5ZsZXXG10Hr",
        "outputId": "d7c26126-5ea4-4679-acdf-fbeef72f90a4"
      },
      "execution_count": null,
      "outputs": [
        {
          "output_type": "execute_result",
          "data": {
            "text/plain": [
              "[('U Launcher Lite – FREE Live Cool Themes, Hide Apps', 4.7),\n",
              " ('Quick PDF Scanner + OCR FREE', 4.2),\n",
              " ('FREE VIDEO CHAT - LIVE VIDEO AND TEXT CHAT', 4.8),\n",
              " ('FREE LIVE TALK', 4.9),\n",
              " ('FREE Stock Market Trading Tips', 3.9),\n",
              " ('Cookpad - FREE recipe search makes fun cooking · musical making!', 4.1),\n",
              " ('DELISH KITCHEN - FREE recipe movies make food fun and easy!', 4.6),\n",
              " ('Plants vs. Zombies FREE', 4.4),\n",
              " ('Cut the Rope FULL FREE', 4.4),\n",
              " ('All-in-One Mahjong 3 FREE', 4.5),\n",
              " ('Sounds for Toddlers FREE', 4.4),\n",
              " ('Camera ZOOM FX - FREE', 4.0),\n",
              " ('FREEDOME VPN Unlimited anonymous Wifi Security', 4.3),\n",
              " ('Northern Lights FREE (Aurora)', 4.1),\n",
              " ('AndroZip™ FREE File Manager', 4.2),\n",
              " ('tinyCam Monitor FREE', 4.0),\n",
              " ('AC Remote for O General - NOW FREE', 3.7),\n",
              " ('Remote For ATT U-verse TV - NOW FREE', 2.5),\n",
              " ('30 Day Ab Challenge FREE', 4.3),\n",
              " (\"Ladies' Ab Workout FREE\", 4.0),\n",
              " ('AC Remote for Haier - NOW FREE', 3.9),\n",
              " ('AC Remote for Daikin - NOW FREE', 3.5),\n",
              " ('AC Remote for LG - NOW FREE', 3.7),\n",
              " ('AC Remote for Midea - NOW FREE', 4.0),\n",
              " ('AC Remote for Sharp - NOW FREE', 3.7),\n",
              " ('AC Remote for Samsung - NOW FREE', 3.7),\n",
              " ('AC Remote for Carrier - NOW FREE', 3.7),\n",
              " ('Mupen64+AE FREE (N64 Emulator)', 4.0),\n",
              " ('AF-STROKE (FREE)', 4.5),\n",
              " ('Bridge Constructor Stunts FREE', 4.1),\n",
              " ('BC Slots - The Lost Reels FREE', 4.0),\n",
              " ('Bridge Constructor Playground FREE', 3.9),\n",
              " ('Ultimate BlackJack 3D FREE', 4.1),\n",
              " ('BSPlayer FREE', 4.3),\n",
              " ('Bluetooth Control BT->uC FREE', 3.8),\n",
              " ('CB Frequencies FREE!', 3.1),\n",
              " ('FREE CHATS C.L.', nan),\n",
              " ('AppClose - The #1 FREE Co-Parenting App', 3.5),\n",
              " ('CP RACING 2 FREE', 4.0),\n",
              " ('D. H. Lawrence Poems FREE', nan),\n",
              " ('Download Manager Pro FREE', 3.8),\n",
              " ('Shoot! DX - lights for FREE', nan),\n",
              " ('ER Doctor City Emergency - Surgery City Doc FREE', 3.9)]"
            ]
          },
          "metadata": {},
          "execution_count": 12
        }
      ]
    },
    {
      "cell_type": "markdown",
      "source": [
        "Vimos que hay ratings con nans, los sacamos"
      ],
      "metadata": {
        "id": "92xq1NZLlm82"
      }
    },
    {
      "cell_type": "code",
      "source": [
        "rdd4 = rdd3.filter(lambda x: not isinstance(x[1], float) or not math.isnan(x[1]))\n",
        "rdd4.collect()"
      ],
      "metadata": {
        "colab": {
          "base_uri": "https://localhost:8080/"
        },
        "id": "-64dIry33Igr",
        "outputId": "c34401e2-1d12-46e5-a7d2-c850fc8a1db6"
      },
      "execution_count": null,
      "outputs": [
        {
          "output_type": "execute_result",
          "data": {
            "text/plain": [
              "[('U Launcher Lite – FREE Live Cool Themes, Hide Apps', 4.7),\n",
              " ('Quick PDF Scanner + OCR FREE', 4.2),\n",
              " ('FREE VIDEO CHAT - LIVE VIDEO AND TEXT CHAT', 4.8),\n",
              " ('FREE LIVE TALK', 4.9),\n",
              " ('FREE Stock Market Trading Tips', 3.9),\n",
              " ('Cookpad - FREE recipe search makes fun cooking · musical making!', 4.1),\n",
              " ('DELISH KITCHEN - FREE recipe movies make food fun and easy!', 4.6),\n",
              " ('Plants vs. Zombies FREE', 4.4),\n",
              " ('Cut the Rope FULL FREE', 4.4),\n",
              " ('All-in-One Mahjong 3 FREE', 4.5),\n",
              " ('Sounds for Toddlers FREE', 4.4),\n",
              " ('Camera ZOOM FX - FREE', 4.0),\n",
              " ('FREEDOME VPN Unlimited anonymous Wifi Security', 4.3),\n",
              " ('Northern Lights FREE (Aurora)', 4.1),\n",
              " ('AndroZip™ FREE File Manager', 4.2),\n",
              " ('tinyCam Monitor FREE', 4.0),\n",
              " ('AC Remote for O General - NOW FREE', 3.7),\n",
              " ('Remote For ATT U-verse TV - NOW FREE', 2.5),\n",
              " ('30 Day Ab Challenge FREE', 4.3),\n",
              " (\"Ladies' Ab Workout FREE\", 4.0),\n",
              " ('AC Remote for Haier - NOW FREE', 3.9),\n",
              " ('AC Remote for Daikin - NOW FREE', 3.5),\n",
              " ('AC Remote for LG - NOW FREE', 3.7),\n",
              " ('AC Remote for Midea - NOW FREE', 4.0),\n",
              " ('AC Remote for Sharp - NOW FREE', 3.7),\n",
              " ('AC Remote for Samsung - NOW FREE', 3.7),\n",
              " ('AC Remote for Carrier - NOW FREE', 3.7),\n",
              " ('Mupen64+AE FREE (N64 Emulator)', 4.0),\n",
              " ('AF-STROKE (FREE)', 4.5),\n",
              " ('Bridge Constructor Stunts FREE', 4.1),\n",
              " ('BC Slots - The Lost Reels FREE', 4.0),\n",
              " ('Bridge Constructor Playground FREE', 3.9),\n",
              " ('Ultimate BlackJack 3D FREE', 4.1),\n",
              " ('BSPlayer FREE', 4.3),\n",
              " ('Bluetooth Control BT->uC FREE', 3.8),\n",
              " ('CB Frequencies FREE!', 3.1),\n",
              " ('AppClose - The #1 FREE Co-Parenting App', 3.5),\n",
              " ('CP RACING 2 FREE', 4.0),\n",
              " ('Download Manager Pro FREE', 3.8),\n",
              " ('ER Doctor City Emergency - Surgery City Doc FREE', 3.9)]"
            ]
          },
          "metadata": {},
          "execution_count": 13
        }
      ]
    },
    {
      "cell_type": "markdown",
      "source": [
        "Por ultimo nos quedamos con la de peor rating"
      ],
      "metadata": {
        "id": "y2SRMVCIluDd"
      }
    },
    {
      "cell_type": "code",
      "source": [
        "rdd5 = rdd4.reduce(lambda a, b: a if a[1] < b[1] else b)\n",
        "rdd5"
      ],
      "metadata": {
        "colab": {
          "base_uri": "https://localhost:8080/"
        },
        "id": "KCmzn0Bw5FYL",
        "outputId": "37f45eba-b924-4dff-e36b-f45d225893e0"
      },
      "execution_count": null,
      "outputs": [
        {
          "output_type": "execute_result",
          "data": {
            "text/plain": [
              "('Remote For ATT U-verse TV - NOW FREE', 2.5)"
            ]
          },
          "metadata": {},
          "execution_count": 14
        }
      ]
    }
  ]
}