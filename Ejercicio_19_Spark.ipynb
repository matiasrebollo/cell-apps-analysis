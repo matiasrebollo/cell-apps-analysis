{
  "nbformat": 4,
  "nbformat_minor": 0,
  "metadata": {
    "colab": {
      "provenance": []
    },
    "kernelspec": {
      "name": "python3",
      "display_name": "Python 3"
    },
    "language_info": {
      "name": "python"
    }
  },
  "cells": [
    {
      "cell_type": "code",
      "execution_count": null,
      "metadata": {
        "id": "xicNt5viM9ZW",
        "colab": {
          "base_uri": "https://localhost:8080/"
        },
        "outputId": "2f5b02c2-1401-4b2b-f73b-c8e16fed110d"
      },
      "outputs": [
        {
          "output_type": "stream",
          "name": "stdout",
          "text": [
            "Requirement already satisfied: pyspark in /usr/local/lib/python3.10/dist-packages (3.5.0)\n",
            "Requirement already satisfied: py4j==0.10.9.7 in /usr/local/lib/python3.10/dist-packages (from pyspark) (0.10.9.7)\n",
            "Hit:1 http://security.ubuntu.com/ubuntu jammy-security InRelease\n",
            "Hit:2 https://cloud.r-project.org/bin/linux/ubuntu jammy-cran40/ InRelease\n",
            "Hit:3 https://ppa.launchpadcontent.net/c2d4u.team/c2d4u4.0+/ubuntu jammy InRelease\n",
            "Hit:4 https://developer.download.nvidia.com/compute/cuda/repos/ubuntu2204/x86_64  InRelease\n",
            "Hit:5 https://ppa.launchpadcontent.net/deadsnakes/ppa/ubuntu jammy InRelease\n",
            "Hit:6 http://archive.ubuntu.com/ubuntu jammy InRelease\n",
            "Hit:7 https://ppa.launchpadcontent.net/graphics-drivers/ppa/ubuntu jammy InRelease\n",
            "Hit:8 http://archive.ubuntu.com/ubuntu jammy-updates InRelease\n",
            "Hit:9 https://ppa.launchpadcontent.net/ubuntugis/ppa/ubuntu jammy InRelease\n",
            "Hit:10 http://archive.ubuntu.com/ubuntu jammy-backports InRelease\n",
            "Reading package lists... Done\n",
            "Building dependency tree... Done\n",
            "Reading state information... Done\n",
            "18 packages can be upgraded. Run 'apt list --upgradable' to see them.\n",
            "openjdk-8-jdk-headless is already the newest version (8u382-ga-1~22.04.1).\n",
            "0 upgraded, 0 newly installed, 0 to remove and 18 not upgraded.\n"
          ]
        }
      ],
      "source": [
        "!pip install pyspark\n",
        "!pip install -U -q PyDrive\n",
        "!apt update\n",
        "!apt install openjdk-8-jdk-headless -qq\n",
        "#!apt install default-jre\n",
        "#!apt install default-jdk+\n",
        "import os\n",
        "os.environ[\"JAVA_HOME\"] = \"/usr/lib/jvm/java-8-openjdk-amd64\""
      ]
    },
    {
      "cell_type": "code",
      "source": [
        "from pydrive.auth import GoogleAuth\n",
        "from pydrive.drive import GoogleDrive\n",
        "from google.colab import auth\n",
        "from oauth2client.client import GoogleCredentials\n",
        "from pyspark.sql import *\n",
        "from pyspark.sql.functions import *\n",
        "from pyspark import SparkContext\n",
        "from pyspark.sql import SQLContext\n",
        "import math"
      ],
      "metadata": {
        "id": "tj2FhGSVPO-n"
      },
      "execution_count": null,
      "outputs": []
    },
    {
      "cell_type": "code",
      "source": [
        "auth.authenticate_user()\n",
        "gauth = GoogleAuth()\n",
        "gauth.credentials = GoogleCredentials.get_application_default()\n",
        "drive = GoogleDrive(gauth)"
      ],
      "metadata": {
        "id": "dvUeblTNPRhg"
      },
      "execution_count": null,
      "outputs": []
    },
    {
      "cell_type": "code",
      "source": [
        "# https://drive.google.com/file/d/1jU38cWxHrKGLg1nWO_wW8031z7d1HpnO/view?usp=drive_link\n",
        "\n",
        "id='1jU38cWxHrKGLg1nWO_wW8031z7d1HpnO'\n",
        "downloaded = drive.CreateFile({'id': id})\n",
        "downloaded.GetContentFile('googleplaystore.csv')"
      ],
      "metadata": {
        "id": "NWQYTICOPS3O"
      },
      "execution_count": null,
      "outputs": []
    },
    {
      "cell_type": "code",
      "source": [
        "# https://drive.google.com/file/d/1wJgpI28LxgXlWxeLfTJE2O89l3dPbekL/view?usp=drive_link\n",
        "\n",
        "id='1wJgpI28LxgXlWxeLfTJE2O89l3dPbekL'\n",
        "downloaded = drive.CreateFile({'id': id})\n",
        "downloaded.GetContentFile('googleplaystoreuserreviews.csv')"
      ],
      "metadata": {
        "id": "DVyNQaGLPT3P"
      },
      "execution_count": null,
      "outputs": []
    },
    {
      "cell_type": "code",
      "source": [
        "spark = SparkSession.builder.getOrCreate()\n",
        "sc = spark.sparkContext"
      ],
      "metadata": {
        "id": "espkTiTDPVHm"
      },
      "execution_count": null,
      "outputs": []
    },
    {
      "cell_type": "code",
      "source": [
        "sqlContext = SQLContext(sc)\n",
        "df1 = sqlContext.read.option(\"delimiter\", \",\").option(\"escape\", '\"').csv('googleplaystore.csv', header=True, inferSchema=True)\n",
        "df2 = sqlContext.read.option(\"delimiter\", \",\").option(\"escape\", '\"').csv('googleplaystoreuserreviews.csv', header=True, inferSchema=True)\n",
        "rddreviews = df2.rdd"
      ],
      "metadata": {
        "colab": {
          "base_uri": "https://localhost:8080/"
        },
        "id": "qOsaZTWWPWiO",
        "outputId": "daf0d281-ba1b-43a5-ce73-ec9c8da9f173"
      },
      "execution_count": null,
      "outputs": [
        {
          "output_type": "stream",
          "name": "stderr",
          "text": [
            "/usr/local/lib/python3.10/dist-packages/pyspark/sql/context.py:113: FutureWarning: Deprecated in 3.0.0. Use SparkSession.builder.getOrCreate() instead.\n",
            "  warnings.warn(\n"
          ]
        }
      ]
    },
    {
      "cell_type": "markdown",
      "source": [
        "Desde los ejercicios de pandas sabemos que hay una linea con Rating 19, lo cual no es posible, la sacamos"
      ],
      "metadata": {
        "id": "y1GV18y4hELE"
      }
    },
    {
      "cell_type": "code",
      "source": [
        "rddapps = df1.rdd.filter(lambda x: x.App != \"Life Made WI-Fi Touchscreen Photo Frame\").cache()"
      ],
      "metadata": {
        "id": "DqsI7Dd-hCKc"
      },
      "execution_count": null,
      "outputs": []
    },
    {
      "cell_type": "markdown",
      "source": [
        "Vemos un poco como se presentan los datos de cada registro"
      ],
      "metadata": {
        "id": "yy5vVHJhhJHs"
      }
    },
    {
      "cell_type": "code",
      "source": [
        "rddapps.take(5)"
      ],
      "metadata": {
        "colab": {
          "base_uri": "https://localhost:8080/"
        },
        "id": "CZ2iomu3P4wn",
        "outputId": "8138a3e0-af37-486b-b918-3b1403d24a3a"
      },
      "execution_count": null,
      "outputs": [
        {
          "output_type": "execute_result",
          "data": {
            "text/plain": [
              "[Row(App='Photo Editor & Candy Camera & Grid & ScrapBook', Category='ART_AND_DESIGN', Rating=4.1, Reviews='159', Size='19M', Installs='10,000+', Type='Free', Price='0', Content Rating='Everyone', Genres='Art & Design', Last Updated='January 7, 2018', Current Ver='1.0.0', Android Ver='4.0.3 and up'),\n",
              " Row(App='Coloring book moana', Category='ART_AND_DESIGN', Rating=3.9, Reviews='967', Size='14M', Installs='500,000+', Type='Free', Price='0', Content Rating='Everyone', Genres='Art & Design;Pretend Play', Last Updated='January 15, 2018', Current Ver='2.0.0', Android Ver='4.0.3 and up'),\n",
              " Row(App='U Launcher Lite – FREE Live Cool Themes, Hide Apps', Category='ART_AND_DESIGN', Rating=4.7, Reviews='87510', Size='8.7M', Installs='5,000,000+', Type='Free', Price='0', Content Rating='Everyone', Genres='Art & Design', Last Updated='August 1, 2018', Current Ver='1.2.4', Android Ver='4.0.3 and up'),\n",
              " Row(App='Sketch - Draw & Paint', Category='ART_AND_DESIGN', Rating=4.5, Reviews='215644', Size='25M', Installs='50,000,000+', Type='Free', Price='0', Content Rating='Teen', Genres='Art & Design', Last Updated='June 8, 2018', Current Ver='Varies with device', Android Ver='4.2 and up'),\n",
              " Row(App='Pixel Draw - Number Art Coloring Book', Category='ART_AND_DESIGN', Rating=4.3, Reviews='967', Size='2.8M', Installs='100,000+', Type='Free', Price='0', Content Rating='Everyone', Genres='Art & Design;Creativity', Last Updated='June 20, 2018', Current Ver='1.1', Android Ver='4.4 and up')]"
            ]
          },
          "metadata": {},
          "execution_count": 20
        }
      ]
    },
    {
      "cell_type": "code",
      "source": [
        "rddreviews.take(5)"
      ],
      "metadata": {
        "colab": {
          "base_uri": "https://localhost:8080/"
        },
        "id": "IVTNhbltP8qP",
        "outputId": "f6efc733-1126-4b69-bd02-c61db4b82ebc"
      },
      "execution_count": null,
      "outputs": [
        {
          "output_type": "execute_result",
          "data": {
            "text/plain": [
              "[Row(App='10 Best Foods for You', Translated_Review='I like eat delicious food. That\\'s I\\'m cooking food myself, case \"10 Best Foods\" helps lot, also \"Best Before (Shelf Life)\"', Sentiment='Positive', Sentiment_Polarity='1.0', Sentiment_Subjectivity='0.5333333333333333'),\n",
              " Row(App='10 Best Foods for You', Translated_Review='This help eating healthy exercise regular basis', Sentiment='Positive', Sentiment_Polarity='0.25', Sentiment_Subjectivity='0.28846153846153844'),\n",
              " Row(App='10 Best Foods for You', Translated_Review='nan', Sentiment='nan', Sentiment_Polarity='nan', Sentiment_Subjectivity='nan'),\n",
              " Row(App='10 Best Foods for You', Translated_Review='Works great especially going grocery store', Sentiment='Positive', Sentiment_Polarity='0.4', Sentiment_Subjectivity='0.875'),\n",
              " Row(App='10 Best Foods for You', Translated_Review='Best idea us', Sentiment='Positive', Sentiment_Polarity='1.0', Sentiment_Subjectivity='0.3')]"
            ]
          },
          "metadata": {},
          "execution_count": 21
        }
      ]
    },
    {
      "cell_type": "markdown",
      "source": [
        "Vemos que hay apps repetidas"
      ],
      "metadata": {
        "id": "cyBf1WTScu1y"
      }
    },
    {
      "cell_type": "code",
      "source": [
        "aux = rddapps.map(lambda x: (x[0], 1)).reduceByKey(lambda x, y: x + y)\n",
        "aux1 = aux.filter(lambda x: x[1] > 1)\n",
        "aux1.count()"
      ],
      "metadata": {
        "colab": {
          "base_uri": "https://localhost:8080/"
        },
        "id": "-iM-RSuHcsq5",
        "outputId": "47557bef-b0f1-4d97-cc51-1b30461ccb83"
      },
      "execution_count": null,
      "outputs": [
        {
          "output_type": "execute_result",
          "data": {
            "text/plain": [
              "798"
            ]
          },
          "metadata": {},
          "execution_count": 22
        }
      ]
    },
    {
      "cell_type": "markdown",
      "source": [
        "En mi criterio, las sacamos"
      ],
      "metadata": {
        "id": "CwOl67QIhSLd"
      }
    },
    {
      "cell_type": "code",
      "source": [
        "rddapps1 = rddapps.map(lambda x: (x[0], x)).reduceByKey(lambda x, y: x)\n",
        "rddapps1.take(5)"
      ],
      "metadata": {
        "colab": {
          "base_uri": "https://localhost:8080/"
        },
        "id": "MqSkA1cAQV5W",
        "outputId": "c17e8d17-8d17-4fb2-b23b-8409f414ccf9"
      },
      "execution_count": null,
      "outputs": [
        {
          "output_type": "execute_result",
          "data": {
            "text/plain": [
              "[('Photo Editor & Candy Camera & Grid & ScrapBook',\n",
              "  Row(App='Photo Editor & Candy Camera & Grid & ScrapBook', Category='ART_AND_DESIGN', Rating=4.1, Reviews='159', Size='19M', Installs='10,000+', Type='Free', Price='0', Content Rating='Everyone', Genres='Art & Design', Last Updated='January 7, 2018', Current Ver='1.0.0', Android Ver='4.0.3 and up')),\n",
              " ('Coloring book moana',\n",
              "  Row(App='Coloring book moana', Category='ART_AND_DESIGN', Rating=3.9, Reviews='967', Size='14M', Installs='500,000+', Type='Free', Price='0', Content Rating='Everyone', Genres='Art & Design;Pretend Play', Last Updated='January 15, 2018', Current Ver='2.0.0', Android Ver='4.0.3 and up')),\n",
              " ('U Launcher Lite – FREE Live Cool Themes, Hide Apps',\n",
              "  Row(App='U Launcher Lite – FREE Live Cool Themes, Hide Apps', Category='ART_AND_DESIGN', Rating=4.7, Reviews='87510', Size='8.7M', Installs='5,000,000+', Type='Free', Price='0', Content Rating='Everyone', Genres='Art & Design', Last Updated='August 1, 2018', Current Ver='1.2.4', Android Ver='4.0.3 and up')),\n",
              " ('Sketch - Draw & Paint',\n",
              "  Row(App='Sketch - Draw & Paint', Category='ART_AND_DESIGN', Rating=4.5, Reviews='215644', Size='25M', Installs='50,000,000+', Type='Free', Price='0', Content Rating='Teen', Genres='Art & Design', Last Updated='June 8, 2018', Current Ver='Varies with device', Android Ver='4.2 and up')),\n",
              " ('Pixel Draw - Number Art Coloring Book',\n",
              "  Row(App='Pixel Draw - Number Art Coloring Book', Category='ART_AND_DESIGN', Rating=4.3, Reviews='967', Size='2.8M', Installs='100,000+', Type='Free', Price='0', Content Rating='Everyone', Genres='Art & Design;Creativity', Last Updated='June 20, 2018', Current Ver='1.1', Android Ver='4.4 and up'))]"
            ]
          },
          "metadata": {},
          "execution_count": 23
        }
      ]
    },
    {
      "cell_type": "markdown",
      "source": [
        "De las apps unicamente me quedo con el nombre de las apps y su categoria"
      ],
      "metadata": {
        "id": "MvaPaqN_hc6c"
      }
    },
    {
      "cell_type": "code",
      "source": [
        "rddapps2 = rddapps1.map(lambda x: (x[0], x[1][1]))\n",
        "rddapps2.take(5)"
      ],
      "metadata": {
        "colab": {
          "base_uri": "https://localhost:8080/"
        },
        "id": "NhlXqna1SwHG",
        "outputId": "84d98a79-df20-4e3d-db2f-dd49b3d87361"
      },
      "execution_count": null,
      "outputs": [
        {
          "output_type": "execute_result",
          "data": {
            "text/plain": [
              "[('Photo Editor & Candy Camera & Grid & ScrapBook', 'ART_AND_DESIGN'),\n",
              " ('Coloring book moana', 'ART_AND_DESIGN'),\n",
              " ('U Launcher Lite – FREE Live Cool Themes, Hide Apps', 'ART_AND_DESIGN'),\n",
              " ('Sketch - Draw & Paint', 'ART_AND_DESIGN'),\n",
              " ('Pixel Draw - Number Art Coloring Book', 'ART_AND_DESIGN')]"
            ]
          },
          "metadata": {},
          "execution_count": 24
        }
      ]
    },
    {
      "cell_type": "markdown",
      "source": [
        "De las reviews me quedo unicamente con aquellas que tienen sentimiento negativo"
      ],
      "metadata": {
        "id": "67a32QXXhgyr"
      }
    },
    {
      "cell_type": "code",
      "source": [
        "rddreviews1 = rddreviews.filter(lambda x: x.Sentiment == \"Negative\")\n",
        "rddreviews1.take(5)"
      ],
      "metadata": {
        "colab": {
          "base_uri": "https://localhost:8080/"
        },
        "id": "i4qyXLgUS6Ye",
        "outputId": "e097077a-6b4d-472d-8dfb-73dfd2c75fc1"
      },
      "execution_count": null,
      "outputs": [
        {
          "output_type": "execute_result",
          "data": {
            "text/plain": [
              "[Row(App='10 Best Foods for You', Translated_Review='No recipe book Unable recipe book.', Sentiment='Negative', Sentiment_Polarity='-0.5', Sentiment_Subjectivity='0.5'),\n",
              " Row(App='10 Best Foods for You', Translated_Review='Waste time It needs internet time n ask calls information', Sentiment='Negative', Sentiment_Polarity='-0.2', Sentiment_Subjectivity='0.0'),\n",
              " Row(App='10 Best Foods for You', Translated_Review='Faltu plz waste ur time', Sentiment='Negative', Sentiment_Polarity='-0.2', Sentiment_Subjectivity='0.0'),\n",
              " Row(App='10 Best Foods for You', Translated_Review=\"Crap Doesn't work\", Sentiment='Negative', Sentiment_Polarity='-0.8', Sentiment_Subjectivity='0.8'),\n",
              " Row(App='10 Best Foods for You', Translated_Review=\"Boring. I thought actually just texts that's it. Too poor old texts....\", Sentiment='Negative', Sentiment_Polarity='-0.32499999999999996', Sentiment_Subjectivity='0.47500000000000003')]"
            ]
          },
          "metadata": {},
          "execution_count": 25
        }
      ]
    },
    {
      "cell_type": "markdown",
      "source": [
        "Nos quedamos con el nombre de la app y su cantidad de reviews negativas."
      ],
      "metadata": {
        "id": "RoWbcT2shtEc"
      }
    },
    {
      "cell_type": "code",
      "source": [
        "rddreviews2 = rddreviews1.map(lambda x: (x[0], 1))\n",
        "rddreviews3 = rddreviews2.reduceByKey(lambda a, b: a + b)\n",
        "rddreviews3.take(5)"
      ],
      "metadata": {
        "colab": {
          "base_uri": "https://localhost:8080/"
        },
        "id": "_uo4o9GQVYr_",
        "outputId": "1224d627-1d01-4dac-8bcd-60a5c11ff08f"
      },
      "execution_count": null,
      "outputs": [
        {
          "output_type": "execute_result",
          "data": {
            "text/plain": [
              "[('104 找工作 - 找工作 找打工 找兼職 履歷健檢 履歷診療室', 1),\n",
              " ('21-Day Meditation Experience', 10),\n",
              " ('2Date Dating App, Love and matching', 7),\n",
              " ('30 Day Fitness Challenge - Workout at Home', 2),\n",
              " ('4 in a Row', 3)]"
            ]
          },
          "metadata": {},
          "execution_count": 26
        }
      ]
    },
    {
      "cell_type": "markdown",
      "source": [
        "Juntamos ambos rdds y mapeamos para tener como key la categoria y como valores el nombre de la app y su cantidad de reviews negativas"
      ],
      "metadata": {
        "id": "D0x4VHOyh0F0"
      }
    },
    {
      "cell_type": "code",
      "source": [
        "rddcombinado = rddapps2.join(rddreviews3)\n",
        "rddcombinado1 = rddcombinado.map(lambda x: (x[1][0], (x[0], x[1][1])))\n",
        "rddcombinado1.take(5)"
      ],
      "metadata": {
        "colab": {
          "base_uri": "https://localhost:8080/"
        },
        "id": "YAokmO5eWrl2",
        "outputId": "f27fb8aa-bef7-4fb0-d287-d2f7bb24b693"
      },
      "execution_count": null,
      "outputs": [
        {
          "output_type": "execute_result",
          "data": {
            "text/plain": [
              "[('ART_AND_DESIGN', (\"Boys Photo Editor - Six Pack & Men's Suit\", 5)),\n",
              " ('ART_AND_DESIGN', ('Colorfit - Drawing & Coloring', 8)),\n",
              " ('ART_AND_DESIGN', ('Easy Origami Ideas', 11)),\n",
              " ('ART_AND_DESIGN', ('Canva: Poster, banner, card maker & graphic design', 3)),\n",
              " ('AUTO_AND_VEHICLES', ('CDL Practice Test 2018 Edition', 1))]"
            ]
          },
          "metadata": {},
          "execution_count": 27
        }
      ]
    },
    {
      "cell_type": "markdown",
      "source": [
        "Por ultimo nos quedamos con la app con mas reviews de sentimiento negativo de cada categoria y hacemos collect ya que sabemos que son pocas."
      ],
      "metadata": {
        "id": "aDcOf3l_iPCM"
      }
    },
    {
      "cell_type": "code",
      "source": [
        "rddcombinado2 = rddcombinado1.reduceByKey(lambda a, b: a if a[1] > b[1] else b)\n",
        "rddrespuesta = rddcombinado2.map(lambda x: (x[0], x[1][0]))\n",
        "rddrespuesta.collect()"
      ],
      "metadata": {
        "colab": {
          "base_uri": "https://localhost:8080/"
        },
        "id": "Wo4LzrvBXuBW",
        "outputId": "4fac647b-228c-413f-faa7-35830d765a9d"
      },
      "execution_count": null,
      "outputs": [
        {
          "output_type": "execute_result",
          "data": {
            "text/plain": [
              "[('COMMUNICATION', 'Azar'),\n",
              " ('ENTERTAINMENT', 'Colorfy: Coloring Book for Adults - Free'),\n",
              " ('FINANCE', 'Google Pay'),\n",
              " ('MEDICAL', 'Banfield Pet Health Tracker'),\n",
              " ('SOCIAL', 'Facebook'),\n",
              " ('TOOLS', 'Gboard - the Google Keyboard'),\n",
              " ('NEWS_AND_MAGAZINES', 'Fox News – Breaking News, Live Video & News Alerts'),\n",
              " ('EVENTS', 'DroidAdmin for Android - Advice'),\n",
              " ('BEAUTY', 'BestCam Selfie-selfie, beauty camera, photo editor'),\n",
              " ('COMICS', 'DC Comics'),\n",
              " ('EDUCATION', 'Duolingo: Learn Languages Free'),\n",
              " ('LIBRARIES_AND_DEMO', 'Aviary Stickers: Free Pack'),\n",
              " ('LIFESTYLE', 'Fashion in Vogue'),\n",
              " ('FAMILY', 'Bad Piggies'),\n",
              " ('PHOTOGRAPHY', 'Google Photos'),\n",
              " ('PARENTING', 'Baby Name Together'),\n",
              " ('MAPS_AND_NAVIGATION', 'FindShip'),\n",
              " ('ART_AND_DESIGN', 'Coloring book moana'),\n",
              " ('AUTO_AND_VEHICLES', 'BEST CAR SOUNDS'),\n",
              " ('BOOKS_AND_REFERENCE', 'Amazon Kindle'),\n",
              " ('BUSINESS', 'HipChat - Chat Built for Teams'),\n",
              " ('DATING', 'Free Dating App - Meet Local Singles - Flirt Chat'),\n",
              " ('FOOD_AND_DRINK', 'Grubhub: Food Delivery'),\n",
              " ('HEALTH_AND_FITNESS', 'Calorie Counter - MyFitnessPal'),\n",
              " ('HOUSE_AND_HOME', 'Apartments.com Rental Search'),\n",
              " ('GAME', 'Angry Birds Classic'),\n",
              " ('SHOPPING', 'Gyft - Mobile Gift Card Wallet'),\n",
              " ('SPORTS', 'Be A Legend: Soccer'),\n",
              " ('TRAVEL_AND_LOCAL', 'Expedia Hotels, Flights & Car Rental Travel Deals'),\n",
              " ('PERSONALIZATION', 'Beautiful Widgets Free'),\n",
              " ('PRODUCTIVITY', 'Google Keep'),\n",
              " ('WEATHER', 'HTC Weather'),\n",
              " ('VIDEO_PLAYERS', 'HTC Service—Video Player')]"
            ]
          },
          "metadata": {},
          "execution_count": 28
        }
      ]
    }
  ]
}