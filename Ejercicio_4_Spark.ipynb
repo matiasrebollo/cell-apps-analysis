{
  "nbformat": 4,
  "nbformat_minor": 0,
  "metadata": {
    "colab": {
      "provenance": []
    },
    "kernelspec": {
      "name": "python3",
      "display_name": "Python 3"
    },
    "language_info": {
      "name": "python"
    }
  },
  "cells": [
    {
      "cell_type": "code",
      "execution_count": null,
      "metadata": {
        "colab": {
          "base_uri": "https://localhost:8080/"
        },
        "id": "EolOPauMBAww",
        "outputId": "fc45ca49-4273-4db9-c1cd-3a737d237350"
      },
      "outputs": [
        {
          "output_type": "stream",
          "name": "stdout",
          "text": [
            "Collecting pyspark\n",
            "  Downloading pyspark-3.5.0.tar.gz (316.9 MB)\n",
            "\u001b[2K     \u001b[90m━━━━━━━━━━━━━━━━━━━━━━━━━━━━━━━━━━━━━━━\u001b[0m \u001b[32m316.9/316.9 MB\u001b[0m \u001b[31m4.8 MB/s\u001b[0m eta \u001b[36m0:00:00\u001b[0m\n",
            "\u001b[?25h  Preparing metadata (setup.py) ... \u001b[?25l\u001b[?25hdone\n",
            "Requirement already satisfied: py4j==0.10.9.7 in /usr/local/lib/python3.10/dist-packages (from pyspark) (0.10.9.7)\n",
            "Building wheels for collected packages: pyspark\n",
            "  Building wheel for pyspark (setup.py) ... \u001b[?25l\u001b[?25hdone\n",
            "  Created wheel for pyspark: filename=pyspark-3.5.0-py2.py3-none-any.whl size=317425344 sha256=cf8a3649210d15abb66a7ddde608ffebaf88f67c94661b8cfd632b3b1e196f6f\n",
            "  Stored in directory: /root/.cache/pip/wheels/41/4e/10/c2cf2467f71c678cfc8a6b9ac9241e5e44a01940da8fbb17fc\n",
            "Successfully built pyspark\n",
            "Installing collected packages: pyspark\n",
            "Successfully installed pyspark-3.5.0\n",
            "Get:1 http://security.ubuntu.com/ubuntu jammy-security InRelease [110 kB]\n",
            "Get:2 https://cloud.r-project.org/bin/linux/ubuntu jammy-cran40/ InRelease [3,626 B]\n",
            "Hit:3 https://ppa.launchpadcontent.net/c2d4u.team/c2d4u4.0+/ubuntu jammy InRelease\n",
            "Hit:4 https://developer.download.nvidia.com/compute/cuda/repos/ubuntu2204/x86_64  InRelease\n",
            "Hit:5 https://ppa.launchpadcontent.net/deadsnakes/ppa/ubuntu jammy InRelease\n",
            "Hit:6 http://archive.ubuntu.com/ubuntu jammy InRelease\n",
            "Hit:7 https://ppa.launchpadcontent.net/graphics-drivers/ppa/ubuntu jammy InRelease\n",
            "Get:8 http://archive.ubuntu.com/ubuntu jammy-updates InRelease [119 kB]\n",
            "Hit:9 https://ppa.launchpadcontent.net/ubuntugis/ppa/ubuntu jammy InRelease\n",
            "Get:10 http://archive.ubuntu.com/ubuntu jammy-backports InRelease [109 kB]\n",
            "Get:11 http://archive.ubuntu.com/ubuntu jammy-updates/universe amd64 Packages [1,266 kB]\n",
            "Get:12 http://archive.ubuntu.com/ubuntu jammy-updates/main amd64 Packages [1,342 kB]\n",
            "Fetched 2,950 kB in 2s (1,714 kB/s)\n",
            "Reading package lists... Done\n",
            "Building dependency tree... Done\n",
            "Reading state information... Done\n",
            "18 packages can be upgraded. Run 'apt list --upgradable' to see them.\n",
            "The following additional packages will be installed:\n",
            "  libxtst6 openjdk-8-jre-headless\n",
            "Suggested packages:\n",
            "  openjdk-8-demo openjdk-8-source libnss-mdns fonts-dejavu-extra fonts-nanum\n",
            "  fonts-ipafont-gothic fonts-ipafont-mincho fonts-wqy-microhei\n",
            "  fonts-wqy-zenhei fonts-indic\n",
            "The following NEW packages will be installed:\n",
            "  libxtst6 openjdk-8-jdk-headless openjdk-8-jre-headless\n",
            "0 upgraded, 3 newly installed, 0 to remove and 18 not upgraded.\n",
            "Need to get 39.7 MB of archives.\n",
            "After this operation, 144 MB of additional disk space will be used.\n",
            "Selecting previously unselected package libxtst6:amd64.\n",
            "(Reading database ... 120875 files and directories currently installed.)\n",
            "Preparing to unpack .../libxtst6_2%3a1.2.3-1build4_amd64.deb ...\n",
            "Unpacking libxtst6:amd64 (2:1.2.3-1build4) ...\n",
            "Selecting previously unselected package openjdk-8-jre-headless:amd64.\n",
            "Preparing to unpack .../openjdk-8-jre-headless_8u382-ga-1~22.04.1_amd64.deb ...\n",
            "Unpacking openjdk-8-jre-headless:amd64 (8u382-ga-1~22.04.1) ...\n",
            "Selecting previously unselected package openjdk-8-jdk-headless:amd64.\n",
            "Preparing to unpack .../openjdk-8-jdk-headless_8u382-ga-1~22.04.1_amd64.deb ...\n",
            "Unpacking openjdk-8-jdk-headless:amd64 (8u382-ga-1~22.04.1) ...\n",
            "Setting up libxtst6:amd64 (2:1.2.3-1build4) ...\n",
            "Setting up openjdk-8-jre-headless:amd64 (8u382-ga-1~22.04.1) ...\n",
            "update-alternatives: using /usr/lib/jvm/java-8-openjdk-amd64/jre/bin/orbd to provide /usr/bin/orbd (orbd) in auto mode\n",
            "update-alternatives: using /usr/lib/jvm/java-8-openjdk-amd64/jre/bin/servertool to provide /usr/bin/servertool (servertool) in auto mode\n",
            "update-alternatives: using /usr/lib/jvm/java-8-openjdk-amd64/jre/bin/tnameserv to provide /usr/bin/tnameserv (tnameserv) in auto mode\n",
            "Setting up openjdk-8-jdk-headless:amd64 (8u382-ga-1~22.04.1) ...\n",
            "update-alternatives: using /usr/lib/jvm/java-8-openjdk-amd64/bin/clhsdb to provide /usr/bin/clhsdb (clhsdb) in auto mode\n",
            "update-alternatives: using /usr/lib/jvm/java-8-openjdk-amd64/bin/extcheck to provide /usr/bin/extcheck (extcheck) in auto mode\n",
            "update-alternatives: using /usr/lib/jvm/java-8-openjdk-amd64/bin/hsdb to provide /usr/bin/hsdb (hsdb) in auto mode\n",
            "update-alternatives: using /usr/lib/jvm/java-8-openjdk-amd64/bin/idlj to provide /usr/bin/idlj (idlj) in auto mode\n",
            "update-alternatives: using /usr/lib/jvm/java-8-openjdk-amd64/bin/javah to provide /usr/bin/javah (javah) in auto mode\n",
            "update-alternatives: using /usr/lib/jvm/java-8-openjdk-amd64/bin/jhat to provide /usr/bin/jhat (jhat) in auto mode\n",
            "update-alternatives: using /usr/lib/jvm/java-8-openjdk-amd64/bin/jsadebugd to provide /usr/bin/jsadebugd (jsadebugd) in auto mode\n",
            "update-alternatives: using /usr/lib/jvm/java-8-openjdk-amd64/bin/native2ascii to provide /usr/bin/native2ascii (native2ascii) in auto mode\n",
            "update-alternatives: using /usr/lib/jvm/java-8-openjdk-amd64/bin/schemagen to provide /usr/bin/schemagen (schemagen) in auto mode\n",
            "update-alternatives: using /usr/lib/jvm/java-8-openjdk-amd64/bin/wsgen to provide /usr/bin/wsgen (wsgen) in auto mode\n",
            "update-alternatives: using /usr/lib/jvm/java-8-openjdk-amd64/bin/wsimport to provide /usr/bin/wsimport (wsimport) in auto mode\n",
            "update-alternatives: using /usr/lib/jvm/java-8-openjdk-amd64/bin/xjc to provide /usr/bin/xjc (xjc) in auto mode\n",
            "Processing triggers for libc-bin (2.35-0ubuntu3.1) ...\n",
            "/sbin/ldconfig.real: /usr/local/lib/libtbbmalloc.so.2 is not a symbolic link\n",
            "\n",
            "/sbin/ldconfig.real: /usr/local/lib/libtbbmalloc_proxy.so.2 is not a symbolic link\n",
            "\n",
            "/sbin/ldconfig.real: /usr/local/lib/libtbbbind_2_0.so.3 is not a symbolic link\n",
            "\n",
            "/sbin/ldconfig.real: /usr/local/lib/libtbbbind_2_5.so.3 is not a symbolic link\n",
            "\n",
            "/sbin/ldconfig.real: /usr/local/lib/libtbbbind.so.3 is not a symbolic link\n",
            "\n",
            "/sbin/ldconfig.real: /usr/local/lib/libtbb.so.12 is not a symbolic link\n",
            "\n"
          ]
        }
      ],
      "source": [
        "!pip install pyspark\n",
        "!pip install -U -q PyDrive\n",
        "!apt update\n",
        "!apt install openjdk-8-jdk-headless -qq\n",
        "#!apt install default-jre\n",
        "#!apt install default-jdk+\n",
        "import os\n",
        "os.environ[\"JAVA_HOME\"] = \"/usr/lib/jvm/java-8-openjdk-amd64\""
      ]
    },
    {
      "cell_type": "code",
      "source": [
        "from pydrive.auth import GoogleAuth\n",
        "from pydrive.drive import GoogleDrive\n",
        "from google.colab import auth\n",
        "from oauth2client.client import GoogleCredentials\n",
        "from pyspark.sql import *\n",
        "from pyspark.sql.functions import *\n",
        "from pyspark import SparkContext\n",
        "from pyspark.sql import SQLContext\n",
        "import math"
      ],
      "metadata": {
        "id": "taov5J9jBqnM"
      },
      "execution_count": null,
      "outputs": []
    },
    {
      "cell_type": "code",
      "source": [
        "auth.authenticate_user()\n",
        "gauth = GoogleAuth()\n",
        "gauth.credentials = GoogleCredentials.get_application_default()\n",
        "drive = GoogleDrive(gauth)"
      ],
      "metadata": {
        "id": "balW3YeqBsox"
      },
      "execution_count": null,
      "outputs": []
    },
    {
      "cell_type": "code",
      "source": [
        "# https://drive.google.com/file/d/1jU38cWxHrKGLg1nWO_wW8031z7d1HpnO/view?usp=drive_link\n",
        "\n",
        "id='1jU38cWxHrKGLg1nWO_wW8031z7d1HpnO'\n",
        "downloaded = drive.CreateFile({'id': id})\n",
        "downloaded.GetContentFile('googleplaystore.csv')"
      ],
      "metadata": {
        "id": "O3_cYBfKCCcJ"
      },
      "execution_count": null,
      "outputs": []
    },
    {
      "cell_type": "code",
      "source": [
        "# https://drive.google.com/file/d/1wJgpI28LxgXlWxeLfTJE2O89l3dPbekL/view?usp=drive_link\n",
        "\n",
        "id='1wJgpI28LxgXlWxeLfTJE2O89l3dPbekL'\n",
        "downloaded = drive.CreateFile({'id': id})\n",
        "downloaded.GetContentFile('googleplaystoreuserreviews.csv')"
      ],
      "metadata": {
        "id": "0ttPSDKzCEbB"
      },
      "execution_count": null,
      "outputs": []
    },
    {
      "cell_type": "code",
      "source": [
        "spark = SparkSession.builder.getOrCreate()\n",
        "sc = spark.sparkContext"
      ],
      "metadata": {
        "id": "qOwy02zYCHvR"
      },
      "execution_count": null,
      "outputs": []
    },
    {
      "cell_type": "code",
      "source": [
        "sqlContext = SQLContext(sc)\n",
        "df1 = sqlContext.read.option(\"delimiter\", \",\").option(\"escape\", '\"').csv('googleplaystore.csv', header=True, inferSchema=True)\n",
        "df2 = sqlContext.read.option(\"delimiter\", \",\").option(\"escape\", '\"').csv('googleplaystoreuserreviews.csv', header=True, inferSchema=True)"
      ],
      "metadata": {
        "id": "OrUoXW1NCKiT",
        "colab": {
          "base_uri": "https://localhost:8080/"
        },
        "outputId": "1d8f7a9a-361c-4165-ec91-981a9c00cd55"
      },
      "execution_count": null,
      "outputs": [
        {
          "output_type": "stream",
          "name": "stderr",
          "text": [
            "/usr/local/lib/python3.10/dist-packages/pyspark/sql/context.py:113: FutureWarning: Deprecated in 3.0.0. Use SparkSession.builder.getOrCreate() instead.\n",
            "  warnings.warn(\n"
          ]
        }
      ]
    },
    {
      "cell_type": "markdown",
      "source": [
        "Desde los ejercicios de pandas sabemos que hay una linea con Rating 19, lo cual no es posible, la sacamos"
      ],
      "metadata": {
        "id": "F1dwx-h9xfao"
      }
    },
    {
      "cell_type": "code",
      "source": [
        "rddreviews = df2.rdd\n",
        "rddapps = df1.rdd.filter(lambda x: x.App != \"Life Made WI-Fi Touchscreen Photo Frame\").cache()"
      ],
      "metadata": {
        "id": "QhecVWnkxa1B"
      },
      "execution_count": null,
      "outputs": []
    },
    {
      "cell_type": "markdown",
      "source": [
        "Vemos un poco como se presentan los datos de cada registro"
      ],
      "metadata": {
        "id": "BBrrR1ZCxm6g"
      }
    },
    {
      "cell_type": "code",
      "source": [
        "rddapps.take(5)"
      ],
      "metadata": {
        "colab": {
          "base_uri": "https://localhost:8080/"
        },
        "id": "uK2dP94ADZR5",
        "outputId": "39b177a6-e0ed-47c5-a844-93e9902d8dbf"
      },
      "execution_count": null,
      "outputs": [
        {
          "output_type": "execute_result",
          "data": {
            "text/plain": [
              "[Row(App='Photo Editor & Candy Camera & Grid & ScrapBook', Category='ART_AND_DESIGN', Rating=4.1, Reviews='159', Size='19M', Installs='10,000+', Type='Free', Price='0', Content Rating='Everyone', Genres='Art & Design', Last Updated='January 7, 2018', Current Ver='1.0.0', Android Ver='4.0.3 and up'),\n",
              " Row(App='Coloring book moana', Category='ART_AND_DESIGN', Rating=3.9, Reviews='967', Size='14M', Installs='500,000+', Type='Free', Price='0', Content Rating='Everyone', Genres='Art & Design;Pretend Play', Last Updated='January 15, 2018', Current Ver='2.0.0', Android Ver='4.0.3 and up'),\n",
              " Row(App='U Launcher Lite – FREE Live Cool Themes, Hide Apps', Category='ART_AND_DESIGN', Rating=4.7, Reviews='87510', Size='8.7M', Installs='5,000,000+', Type='Free', Price='0', Content Rating='Everyone', Genres='Art & Design', Last Updated='August 1, 2018', Current Ver='1.2.4', Android Ver='4.0.3 and up'),\n",
              " Row(App='Sketch - Draw & Paint', Category='ART_AND_DESIGN', Rating=4.5, Reviews='215644', Size='25M', Installs='50,000,000+', Type='Free', Price='0', Content Rating='Teen', Genres='Art & Design', Last Updated='June 8, 2018', Current Ver='Varies with device', Android Ver='4.2 and up'),\n",
              " Row(App='Pixel Draw - Number Art Coloring Book', Category='ART_AND_DESIGN', Rating=4.3, Reviews='967', Size='2.8M', Installs='100,000+', Type='Free', Price='0', Content Rating='Everyone', Genres='Art & Design;Creativity', Last Updated='June 20, 2018', Current Ver='1.1', Android Ver='4.4 and up')]"
            ]
          },
          "metadata": {},
          "execution_count": 9
        }
      ]
    },
    {
      "cell_type": "code",
      "source": [
        "rddreviews.take(5)"
      ],
      "metadata": {
        "colab": {
          "base_uri": "https://localhost:8080/"
        },
        "id": "qmBm2sELDLiS",
        "outputId": "37aa417e-33bd-4283-91ca-c3eb2dbe1af7"
      },
      "execution_count": null,
      "outputs": [
        {
          "output_type": "execute_result",
          "data": {
            "text/plain": [
              "[Row(App='10 Best Foods for You', Translated_Review='I like eat delicious food. That\\'s I\\'m cooking food myself, case \"10 Best Foods\" helps lot, also \"Best Before (Shelf Life)\"', Sentiment='Positive', Sentiment_Polarity='1.0', Sentiment_Subjectivity='0.5333333333333333'),\n",
              " Row(App='10 Best Foods for You', Translated_Review='This help eating healthy exercise regular basis', Sentiment='Positive', Sentiment_Polarity='0.25', Sentiment_Subjectivity='0.28846153846153844'),\n",
              " Row(App='10 Best Foods for You', Translated_Review='nan', Sentiment='nan', Sentiment_Polarity='nan', Sentiment_Subjectivity='nan'),\n",
              " Row(App='10 Best Foods for You', Translated_Review='Works great especially going grocery store', Sentiment='Positive', Sentiment_Polarity='0.4', Sentiment_Subjectivity='0.875'),\n",
              " Row(App='10 Best Foods for You', Translated_Review='Best idea us', Sentiment='Positive', Sentiment_Polarity='1.0', Sentiment_Subjectivity='0.3')]"
            ]
          },
          "metadata": {},
          "execution_count": 10
        }
      ]
    },
    {
      "cell_type": "markdown",
      "source": [
        "Vemos que hay apps repetidas"
      ],
      "metadata": {
        "id": "0_3jQU6Pesvz"
      }
    },
    {
      "cell_type": "code",
      "source": [
        "aux = rddapps.map(lambda x: (x[0], 1)).reduceByKey(lambda x, y: x + y)\n",
        "aux1 = aux.filter(lambda x: x[1] > 1)\n",
        "aux1.count()"
      ],
      "metadata": {
        "colab": {
          "base_uri": "https://localhost:8080/"
        },
        "id": "0S3ika9weqv8",
        "outputId": "b8af5dce-674e-4580-ab82-a49c741c0ea7"
      },
      "execution_count": null,
      "outputs": [
        {
          "output_type": "execute_result",
          "data": {
            "text/plain": [
              "798"
            ]
          },
          "metadata": {},
          "execution_count": 11
        }
      ]
    },
    {
      "cell_type": "markdown",
      "source": [
        "En mi criterio las sacamos"
      ],
      "metadata": {
        "id": "bfzDqALMxtM4"
      }
    },
    {
      "cell_type": "code",
      "source": [
        "rddapps1 = rddapps.map(lambda x: (x[0], x)).reduceByKey(lambda x, y: x)\n",
        "rddapps1.take(5)"
      ],
      "metadata": {
        "colab": {
          "base_uri": "https://localhost:8080/"
        },
        "id": "AM8lq_92FJS5",
        "outputId": "4113ecf1-4fea-4d04-c66b-d62205a3b427"
      },
      "execution_count": null,
      "outputs": [
        {
          "output_type": "execute_result",
          "data": {
            "text/plain": [
              "[('Photo Editor & Candy Camera & Grid & ScrapBook',\n",
              "  Row(App='Photo Editor & Candy Camera & Grid & ScrapBook', Category='ART_AND_DESIGN', Rating=4.1, Reviews='159', Size='19M', Installs='10,000+', Type='Free', Price='0', Content Rating='Everyone', Genres='Art & Design', Last Updated='January 7, 2018', Current Ver='1.0.0', Android Ver='4.0.3 and up')),\n",
              " ('Coloring book moana',\n",
              "  Row(App='Coloring book moana', Category='ART_AND_DESIGN', Rating=3.9, Reviews='967', Size='14M', Installs='500,000+', Type='Free', Price='0', Content Rating='Everyone', Genres='Art & Design;Pretend Play', Last Updated='January 15, 2018', Current Ver='2.0.0', Android Ver='4.0.3 and up')),\n",
              " ('U Launcher Lite – FREE Live Cool Themes, Hide Apps',\n",
              "  Row(App='U Launcher Lite – FREE Live Cool Themes, Hide Apps', Category='ART_AND_DESIGN', Rating=4.7, Reviews='87510', Size='8.7M', Installs='5,000,000+', Type='Free', Price='0', Content Rating='Everyone', Genres='Art & Design', Last Updated='August 1, 2018', Current Ver='1.2.4', Android Ver='4.0.3 and up')),\n",
              " ('Sketch - Draw & Paint',\n",
              "  Row(App='Sketch - Draw & Paint', Category='ART_AND_DESIGN', Rating=4.5, Reviews='215644', Size='25M', Installs='50,000,000+', Type='Free', Price='0', Content Rating='Teen', Genres='Art & Design', Last Updated='June 8, 2018', Current Ver='Varies with device', Android Ver='4.2 and up')),\n",
              " ('Pixel Draw - Number Art Coloring Book',\n",
              "  Row(App='Pixel Draw - Number Art Coloring Book', Category='ART_AND_DESIGN', Rating=4.3, Reviews='967', Size='2.8M', Installs='100,000+', Type='Free', Price='0', Content Rating='Everyone', Genres='Art & Design;Creativity', Last Updated='June 20, 2018', Current Ver='1.1', Android Ver='4.4 and up'))]"
            ]
          },
          "metadata": {},
          "execution_count": 12
        }
      ]
    },
    {
      "cell_type": "markdown",
      "source": [
        "Y nos quedamos unicamente con los juegos de accion"
      ],
      "metadata": {
        "id": "NXIcInT8xwsY"
      }
    },
    {
      "cell_type": "code",
      "source": [
        "rddapps2 = rddapps1.filter(lambda x: x[1].Category == \"GAME\" and \"ACTION\" in x[1][9].upper()).map(lambda x: x[1])\n",
        "rddapps2.take(5)"
      ],
      "metadata": {
        "colab": {
          "base_uri": "https://localhost:8080/"
        },
        "id": "z7aoYXmvN7Kw",
        "outputId": "b3d138ab-95cc-4b6d-ec93-fcbae17fb40b"
      },
      "execution_count": null,
      "outputs": [
        {
          "output_type": "execute_result",
          "data": {
            "text/plain": [
              "[Row(App='ROBLOX', Category='GAME', Rating=4.5, Reviews='4447388', Size='67M', Installs='100,000,000+', Type='Free', Price='0', Content Rating='Everyone 10+', Genres='Adventure;Action & Adventure', Last Updated='July 31, 2018', Current Ver='2.347.225742', Android Ver='4.1 and up'),\n",
              " Row(App='slither.io', Category='GAME', Rating=4.4, Reviews='5234162', Size='Varies with device', Installs='100,000,000+', Type='Free', Price='0', Content Rating='Everyone', Genres='Action', Last Updated='November 14, 2017', Current Ver='Varies with device', Android Ver='2.3 and up'),\n",
              " Row(App='Temple Run 2', Category='GAME', Rating=4.3, Reviews='8118609', Size='62M', Installs='500,000,000+', Type='Free', Price='0', Content Rating='Everyone', Genres='Action', Last Updated='July 5, 2018', Current Ver='1.49.1', Android Ver='4.0 and up'),\n",
              " Row(App='Helix Jump', Category='GAME', Rating=4.2, Reviews='1497361', Size='33M', Installs='100,000,000+', Type='Free', Price='0', Content Rating='Everyone', Genres='Action', Last Updated='April 9, 2018', Current Ver='1.0.6', Android Ver='4.1 and up'),\n",
              " Row(App='Zombie Hunter King', Category='GAME', Rating=4.3, Reviews='10306', Size='50M', Installs='1,000,000+', Type='Free', Price='0', Content Rating='Mature 17+', Genres='Action', Last Updated='August 1, 2018', Current Ver='1.0.8', Android Ver='2.3 and up')]"
            ]
          },
          "metadata": {},
          "execution_count": 13
        }
      ]
    },
    {
      "cell_type": "markdown",
      "source": [
        "Vemos que al hacer esto hay 5 generos distintos con la palabra ACTION"
      ],
      "metadata": {
        "id": "pfAI5aazyBMj"
      }
    },
    {
      "cell_type": "code",
      "source": [
        "rdd_generos = rddapps2.map(lambda x: x[9]).cache()\n",
        "rdd_generos.distinct().count()"
      ],
      "metadata": {
        "colab": {
          "base_uri": "https://localhost:8080/"
        },
        "id": "uPVvYF10Q02v",
        "outputId": "c6d98fd9-34f9-4b18-e1ed-1332118e9c38"
      },
      "execution_count": null,
      "outputs": [
        {
          "output_type": "execute_result",
          "data": {
            "text/plain": [
              "5"
            ]
          },
          "metadata": {},
          "execution_count": 14
        }
      ]
    },
    {
      "cell_type": "markdown",
      "source": [
        "Hacemos un collect ya que sabemos que son pocos, y vemos que ademas de los generos accion tambien nos quedamos con las apps de accion y aventura\n",
        "los desechamos (salvo que tambien el juego sea de accion unicamente)"
      ],
      "metadata": {
        "id": "4AWzhT4GyD3X"
      }
    },
    {
      "cell_type": "code",
      "source": [
        "rdd_generos.distinct().collect()"
      ],
      "metadata": {
        "colab": {
          "base_uri": "https://localhost:8080/"
        },
        "id": "WpldnCx0TLlv",
        "outputId": "3d5a4586-ce3e-4bfa-cd6e-adcac243d3b6"
      },
      "execution_count": null,
      "outputs": [
        {
          "output_type": "execute_result",
          "data": {
            "text/plain": [
              "['Adventure;Action & Adventure',\n",
              " 'Action',\n",
              " 'Casual;Action & Adventure',\n",
              " 'Action;Action & Adventure',\n",
              " 'Simulation;Action & Adventure']"
            ]
          },
          "metadata": {},
          "execution_count": 15
        }
      ]
    },
    {
      "cell_type": "markdown",
      "source": [
        "Comprobamos que solo nos quedamos con aquellas apps de accion (podemos hacer collect ya que sabemos que van a ser menos generos que los\n",
        "que habian antes de filtrar)"
      ],
      "metadata": {
        "id": "e09J8PpIyIk3"
      }
    },
    {
      "cell_type": "code",
      "source": [
        "rddapps3 = rddapps2.filter(lambda x: (x.Genres == \"Action\" or x.Genres ==\"Action;Action & Adventure\"))\n",
        "rddapps3.map(lambda x: x[9]).distinct().collect()"
      ],
      "metadata": {
        "colab": {
          "base_uri": "https://localhost:8080/"
        },
        "id": "0ZQBTsMzT1Zv",
        "outputId": "2d49740d-e2fa-40bd-d242-7c60f0870755"
      },
      "execution_count": null,
      "outputs": [
        {
          "output_type": "execute_result",
          "data": {
            "text/plain": [
              "['Action', 'Action;Action & Adventure']"
            ]
          },
          "metadata": {},
          "execution_count": 16
        }
      ]
    },
    {
      "cell_type": "markdown",
      "source": [
        "Nos quedamos con el nombre de la app para luego unirlo con las reviews"
      ],
      "metadata": {
        "id": "BOY0JnjDyLv3"
      }
    },
    {
      "cell_type": "code",
      "source": [
        "rddapps4 = rddapps3.map(lambda x: (x[0], x[1], x[9]))\n",
        "rddapps4.take(5)"
      ],
      "metadata": {
        "colab": {
          "base_uri": "https://localhost:8080/"
        },
        "id": "_lr-cnbBXC5W",
        "outputId": "4b84b888-7fdc-4ace-804a-1096f090d01c"
      },
      "execution_count": null,
      "outputs": [
        {
          "output_type": "execute_result",
          "data": {
            "text/plain": [
              "[('slither.io', 'GAME', 'Action'),\n",
              " ('Temple Run 2', 'GAME', 'Action'),\n",
              " ('Helix Jump', 'GAME', 'Action'),\n",
              " ('Zombie Hunter King', 'GAME', 'Action'),\n",
              " ('Kick the Buddy', 'GAME', 'Action')]"
            ]
          },
          "metadata": {},
          "execution_count": 17
        }
      ]
    },
    {
      "cell_type": "markdown",
      "source": [
        "Del rdd de reviews nos quedamos unicamente con aquellas reviews positivas"
      ],
      "metadata": {
        "id": "q7WgBqiRyY4X"
      }
    },
    {
      "cell_type": "code",
      "source": [
        "rddreviews1 = rddreviews.filter(lambda x: x.Sentiment == \"Positive\").cache()\n",
        "rddreviews1.count()"
      ],
      "metadata": {
        "colab": {
          "base_uri": "https://localhost:8080/"
        },
        "id": "97hibHY_GNtR",
        "outputId": "5ddfeae6-7f01-4c5c-937a-cf24ec14c80e"
      },
      "execution_count": null,
      "outputs": [
        {
          "output_type": "execute_result",
          "data": {
            "text/plain": [
              "23998"
            ]
          },
          "metadata": {},
          "execution_count": 18
        }
      ]
    },
    {
      "cell_type": "markdown",
      "source": [
        "Unimos los rdd de reviews asi nos queda cada app con su nombre y una reseña"
      ],
      "metadata": {
        "id": "j0ToqmvZyeVA"
      }
    },
    {
      "cell_type": "code",
      "source": [
        "rddcombinado = rddapps4.join(rddreviews1)\n",
        "rddcombinado.take(5)"
      ],
      "metadata": {
        "colab": {
          "base_uri": "https://localhost:8080/"
        },
        "id": "MiiHntcSWiI9",
        "outputId": "42902145-78fe-4164-fc83-5beac0fed62d"
      },
      "execution_count": null,
      "outputs": [
        {
          "output_type": "execute_result",
          "data": {
            "text/plain": [
              "[('DRAGON BALL LEGENDS',\n",
              "  ('GAME',\n",
              "   'The ultimate Dragon Ball mobile game every fan waiting for! With real time action, reaction based controls easy learn hard master, best action mobile games massive franchise. Also last least, real time PvP real players around world!! Extremely fun bright future ahead. With many characters throughout series, game lucky replace competitors definitive Dragon Ball mobile game!')),\n",
              " ('DRAGON BALL LEGENDS',\n",
              "  ('GAME',\n",
              "   \"The game mad success. So many things done right mobile game. There's lot characters choose from, draw. The random draws definitely weighed nicely occasionally get really good characters. The fighting actually feels satisfying! You dodge, special attacks, even play online. It's nice change pace card games generic stuff always releases. This definitely puzzle bobble game. 5 Stars, easily.\")),\n",
              " ('DRAGON BALL LEGENDS',\n",
              "  ('GAME',\n",
              "   'I feel compelled leave review. By far best dragon ball game. You love absolutely everything it. The game play refreshing, updates rolled occasionally great stuff added everytime. Sometimes PvP seems laggy overlooked. Keep great stuff coming!! Kudos Dev team')),\n",
              " ('DRAGON BALL LEGENDS',\n",
              "  ('GAME',\n",
              "   \"The gameplay fabulous graphics awesome. My phone maxing settings. I'm playing game Samsung Galaxy S8 seems pretty neat actually. The problem face pvp matches. The frame rates drops bit dodging gets bit difficult ... Full Review\")),\n",
              " ('DRAGON BALL LEGENDS',\n",
              "  ('GAME',\n",
              "   'Game amazing. Only thing I problem summoning. At first would give least 1 sparkling character every ten I consecutive summons get nothing heroes characters I already have. Be fair character distribution game get 5 s... Full Review'))]"
            ]
          },
          "metadata": {},
          "execution_count": 19
        }
      ]
    },
    {
      "cell_type": "markdown",
      "source": [
        "Sumamos la cantidad de reviews positivas de cada app y nos quedamos con una reseña de cada una"
      ],
      "metadata": {
        "id": "J51E8BCoyhaH"
      }
    },
    {
      "cell_type": "code",
      "source": [
        "def funcion(a, b):\n",
        "    count = a[0] + b[0]\n",
        "    random_review = a[1]\n",
        "    return (count, random_review)\n",
        "\n",
        "rddcombinado1 = rddcombinado.map(lambda x: (x[0], (1, x[1][1])))\n",
        "rddcombinado2 = rddcombinado1.reduceByKey(funcion)\n",
        "rddcombinado2.take(5)"
      ],
      "metadata": {
        "colab": {
          "base_uri": "https://localhost:8080/"
        },
        "id": "GGpBCYfKXVXl",
        "outputId": "9835b157-bf9b-47c2-808b-cdee24a13f78"
      },
      "execution_count": null,
      "outputs": [
        {
          "output_type": "execute_result",
          "data": {
            "text/plain": [
              "[('DRAGON BALL LEGENDS',\n",
              "  (127,\n",
              "   'The ultimate Dragon Ball mobile game every fan waiting for! With real time action, reaction based controls easy learn hard master, best action mobile games massive franchise. Also last least, real time PvP real players around world!! Extremely fun bright future ahead. With many characters throughout series, game lucky replace competitors definitive Dragon Ball mobile game!')),\n",
              " ('Crossy Road',\n",
              "  (67,\n",
              "   'Hi there, game great, even better cool characters like disco zoo, flying disco ball, dancing animals weird music funny, I idea could help game, favorite list works u add chatacter favorite u chatacters fa... Full Review')),\n",
              " ('Anger of stick 5 : zombie', (2, 'Keep make game better.')),\n",
              " ('CATS: Crash Arena Turbo Stars',\n",
              "  (35,\n",
              "   'After playing game year fun. The issue I noticing trend gang fights. They seem set make pay actually get 100. Also, get gems like used to. Shows thwy care money fun. I know e... Full Review')),\n",
              " ('Dragon Hills',\n",
              "  (10,\n",
              "   'Amazing game get quick snappy action situation. Short time? Bored? Hyper? Any mood all. Easy controls, challenging great fun. I definitely suggest getting game!!'))]"
            ]
          },
          "metadata": {},
          "execution_count": 20
        }
      ]
    },
    {
      "cell_type": "markdown",
      "source": [
        "Por ultimo, devolvemos aquellos 3 juegos de accion con mas reviews positivas y una reseña de cada uno"
      ],
      "metadata": {
        "id": "4pYyCk5xyj2u"
      }
    },
    {
      "cell_type": "code",
      "source": [
        "def takeSecond(elem):\n",
        "    return elem[1]*-1\n",
        "\n",
        "def threeMax(apps):\n",
        "  apps.sort(key=takeSecond)\n",
        "  return apps[:3]\n",
        "\n",
        "rddcombinado2.map(lambda x: ((x[0],x[1][0], x[1][1]), ('',0,''))).reduce(lambda x,y: threeMax([x[0],x[1],y[0],y[1]]))"
      ],
      "metadata": {
        "colab": {
          "base_uri": "https://localhost:8080/"
        },
        "id": "h1g_gHDftTh6",
        "outputId": "60a95c19-626e-403e-dc45-c653e460754d"
      },
      "execution_count": null,
      "outputs": [
        {
          "output_type": "execute_result",
          "data": {
            "text/plain": [
              "[('Helix Jump',\n",
              "  209,\n",
              "  \"Update: I finally bought premium version avoid ads I'm still getting ads non stop despite reaching devs responded all. Going request refund I guess. Original review: The game fun addicting, many ads. An ad every time restart level, ad beat level, ad blink many times. I know devs make money game free pretty top\"),\n",
              " ('Bowmasters',\n",
              "  169,\n",
              "  \"Really like game far. Great gameplay lots fun. Edit: I took away star constant asking rate even I've already rated taking away chances chests. Just seems excessive. It's good game, people need badgered rating.\"),\n",
              " ('Garena Free Fire',\n",
              "  136,\n",
              "  'Please add bolt action Sniper rifles. That would great. The game way easy. And also please decrease amount vehicles per game? Or reduce vehicles except monster truck (because airdrop vehicle). The game way easy I think. Just increase recoil little players say made hard. Nice game. Keep Garena.')]"
            ]
          },
          "metadata": {},
          "execution_count": 21
        }
      ]
    }
  ]
}