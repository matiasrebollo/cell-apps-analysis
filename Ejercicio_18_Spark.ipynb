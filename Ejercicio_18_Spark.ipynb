{
  "nbformat": 4,
  "nbformat_minor": 0,
  "metadata": {
    "colab": {
      "provenance": []
    },
    "kernelspec": {
      "name": "python3",
      "display_name": "Python 3"
    },
    "language_info": {
      "name": "python"
    }
  },
  "cells": [
    {
      "cell_type": "code",
      "execution_count": null,
      "metadata": {
        "id": "noW9yCk-0oqz",
        "colab": {
          "base_uri": "https://localhost:8080/"
        },
        "outputId": "bac56353-0041-440a-b3b1-a7555e95bcf5"
      },
      "outputs": [
        {
          "output_type": "stream",
          "name": "stdout",
          "text": [
            "Requirement already satisfied: pyspark in /usr/local/lib/python3.10/dist-packages (3.5.0)\n",
            "Requirement already satisfied: py4j==0.10.9.7 in /usr/local/lib/python3.10/dist-packages (from pyspark) (0.10.9.7)\n",
            "Hit:1 http://security.ubuntu.com/ubuntu jammy-security InRelease\n",
            "Hit:2 https://cloud.r-project.org/bin/linux/ubuntu jammy-cran40/ InRelease\n",
            "Hit:3 https://ppa.launchpadcontent.net/c2d4u.team/c2d4u4.0+/ubuntu jammy InRelease\n",
            "Hit:4 https://developer.download.nvidia.com/compute/cuda/repos/ubuntu2204/x86_64  InRelease\n",
            "Hit:5 https://ppa.launchpadcontent.net/deadsnakes/ppa/ubuntu jammy InRelease\n",
            "Hit:6 http://archive.ubuntu.com/ubuntu jammy InRelease\n",
            "Hit:7 https://ppa.launchpadcontent.net/graphics-drivers/ppa/ubuntu jammy InRelease\n",
            "Hit:8 http://archive.ubuntu.com/ubuntu jammy-updates InRelease\n",
            "Hit:9 https://ppa.launchpadcontent.net/ubuntugis/ppa/ubuntu jammy InRelease\n",
            "Hit:10 http://archive.ubuntu.com/ubuntu jammy-backports InRelease\n",
            "Reading package lists... Done\n",
            "Building dependency tree... Done\n",
            "Reading state information... Done\n",
            "18 packages can be upgraded. Run 'apt list --upgradable' to see them.\n",
            "openjdk-8-jdk-headless is already the newest version (8u382-ga-1~22.04.1).\n",
            "0 upgraded, 0 newly installed, 0 to remove and 18 not upgraded.\n"
          ]
        }
      ],
      "source": [
        "!pip install pyspark\n",
        "!pip install -U -q PyDrive\n",
        "!apt update\n",
        "!apt install openjdk-8-jdk-headless -qq\n",
        "#!apt install default-jre\n",
        "#!apt install default-jdk+\n",
        "import os\n",
        "os.environ[\"JAVA_HOME\"] = \"/usr/lib/jvm/java-8-openjdk-amd64\""
      ]
    },
    {
      "cell_type": "code",
      "source": [
        "from pydrive.auth import GoogleAuth\n",
        "from pydrive.drive import GoogleDrive\n",
        "from google.colab import auth\n",
        "from oauth2client.client import GoogleCredentials\n",
        "from pyspark.sql import *\n",
        "from pyspark.sql.functions import *\n",
        "from pyspark import SparkContext\n",
        "from pyspark.sql import SQLContext\n",
        "import math"
      ],
      "metadata": {
        "id": "rhUsOOKE1_uL"
      },
      "execution_count": null,
      "outputs": []
    },
    {
      "cell_type": "code",
      "source": [
        "auth.authenticate_user()\n",
        "gauth = GoogleAuth()\n",
        "gauth.credentials = GoogleCredentials.get_application_default()\n",
        "drive = GoogleDrive(gauth)"
      ],
      "metadata": {
        "id": "XJhRgZMZ2BTa"
      },
      "execution_count": null,
      "outputs": []
    },
    {
      "cell_type": "code",
      "source": [
        "# https://drive.google.com/file/d/1jU38cWxHrKGLg1nWO_wW8031z7d1HpnO/view?usp=drive_link\n",
        "\n",
        "id='1jU38cWxHrKGLg1nWO_wW8031z7d1HpnO'\n",
        "downloaded = drive.CreateFile({'id': id})\n",
        "downloaded.GetContentFile('googleplaystore.csv')"
      ],
      "metadata": {
        "id": "6pln7yBl2CnL"
      },
      "execution_count": null,
      "outputs": []
    },
    {
      "cell_type": "code",
      "source": [
        "spark = SparkSession.builder.getOrCreate()\n",
        "sc = spark.sparkContext"
      ],
      "metadata": {
        "id": "29dlUWWP2Eb7"
      },
      "execution_count": null,
      "outputs": []
    },
    {
      "cell_type": "code",
      "source": [
        "sqlContext = SQLContext(sc)\n",
        "df = sqlContext.read.option(\"delimiter\", \",\").option(\"escape\", '\"').csv('googleplaystore.csv', header=True, inferSchema=True)"
      ],
      "metadata": {
        "colab": {
          "base_uri": "https://localhost:8080/"
        },
        "id": "sGpCrJwh2nLX",
        "outputId": "39b55edc-81f3-4ffd-cf3d-7e06b3992bee"
      },
      "execution_count": null,
      "outputs": [
        {
          "output_type": "stream",
          "name": "stderr",
          "text": [
            "/usr/local/lib/python3.10/dist-packages/pyspark/sql/context.py:113: FutureWarning: Deprecated in 3.0.0. Use SparkSession.builder.getOrCreate() instead.\n",
            "  warnings.warn(\n"
          ]
        }
      ]
    },
    {
      "cell_type": "markdown",
      "source": [
        "Desde los ejercicios de pandas sabemos que hay una linea con Rating 19, lo cual no es posible, la sacamos"
      ],
      "metadata": {
        "id": "OJIL6GF01ca-"
      }
    },
    {
      "cell_type": "code",
      "source": [
        "rdd = df.rdd.filter(lambda x: x.App != \"Life Made WI-Fi Touchscreen Photo Frame\")"
      ],
      "metadata": {
        "id": "vKxa7zCK1ao_"
      },
      "execution_count": null,
      "outputs": []
    },
    {
      "cell_type": "markdown",
      "source": [
        "Vemos un poco como se presentan los datos del registro"
      ],
      "metadata": {
        "id": "c1jUBfP-1xg-"
      }
    },
    {
      "cell_type": "code",
      "source": [
        "rdd.take(5)"
      ],
      "metadata": {
        "colab": {
          "base_uri": "https://localhost:8080/"
        },
        "id": "7h_Zlcxh20Ub",
        "outputId": "ef4be5d9-32a2-443a-9652-132862f4b8dd"
      },
      "execution_count": null,
      "outputs": [
        {
          "output_type": "execute_result",
          "data": {
            "text/plain": [
              "[Row(App='Photo Editor & Candy Camera & Grid & ScrapBook', Category='ART_AND_DESIGN', Rating=4.1, Reviews='159', Size='19M', Installs='10,000+', Type='Free', Price='0', Content Rating='Everyone', Genres='Art & Design', Last Updated='January 7, 2018', Current Ver='1.0.0', Android Ver='4.0.3 and up'),\n",
              " Row(App='Coloring book moana', Category='ART_AND_DESIGN', Rating=3.9, Reviews='967', Size='14M', Installs='500,000+', Type='Free', Price='0', Content Rating='Everyone', Genres='Art & Design;Pretend Play', Last Updated='January 15, 2018', Current Ver='2.0.0', Android Ver='4.0.3 and up'),\n",
              " Row(App='U Launcher Lite – FREE Live Cool Themes, Hide Apps', Category='ART_AND_DESIGN', Rating=4.7, Reviews='87510', Size='8.7M', Installs='5,000,000+', Type='Free', Price='0', Content Rating='Everyone', Genres='Art & Design', Last Updated='August 1, 2018', Current Ver='1.2.4', Android Ver='4.0.3 and up'),\n",
              " Row(App='Sketch - Draw & Paint', Category='ART_AND_DESIGN', Rating=4.5, Reviews='215644', Size='25M', Installs='50,000,000+', Type='Free', Price='0', Content Rating='Teen', Genres='Art & Design', Last Updated='June 8, 2018', Current Ver='Varies with device', Android Ver='4.2 and up'),\n",
              " Row(App='Pixel Draw - Number Art Coloring Book', Category='ART_AND_DESIGN', Rating=4.3, Reviews='967', Size='2.8M', Installs='100,000+', Type='Free', Price='0', Content Rating='Everyone', Genres='Art & Design;Creativity', Last Updated='June 20, 2018', Current Ver='1.1', Android Ver='4.4 and up')]"
            ]
          },
          "metadata": {},
          "execution_count": 21
        }
      ]
    },
    {
      "cell_type": "markdown",
      "source": [
        "Vemos que hay apps repetidas"
      ],
      "metadata": {
        "id": "SI33ltZxg0Cl"
      }
    },
    {
      "cell_type": "code",
      "source": [
        "aux = rdd.map(lambda x: (x[0], 1)).reduceByKey(lambda x, y: x + y)\n",
        "aux1 = aux.filter(lambda x: x[1] > 1)\n",
        "aux1.count()"
      ],
      "metadata": {
        "colab": {
          "base_uri": "https://localhost:8080/"
        },
        "id": "mJQd3WElgyf9",
        "outputId": "6fabbbdd-2936-47dd-d498-f44b61c3be86"
      },
      "execution_count": null,
      "outputs": [
        {
          "output_type": "execute_result",
          "data": {
            "text/plain": [
              "798"
            ]
          },
          "metadata": {},
          "execution_count": 22
        }
      ]
    },
    {
      "cell_type": "markdown",
      "source": [
        "En mi criterio las sacamos"
      ],
      "metadata": {
        "id": "B-pFPbJH2EaH"
      }
    },
    {
      "cell_type": "code",
      "source": [
        "rdd1 = rdd.map(lambda x: (x[0], x)).reduceByKey(lambda x, y: x)\n",
        "rdd1.take(5)"
      ],
      "metadata": {
        "colab": {
          "base_uri": "https://localhost:8080/"
        },
        "id": "Rraqcwts23Hk",
        "outputId": "20abc367-e232-4cc9-ee39-433c82627c18"
      },
      "execution_count": null,
      "outputs": [
        {
          "output_type": "execute_result",
          "data": {
            "text/plain": [
              "[('Photo Editor & Candy Camera & Grid & ScrapBook',\n",
              "  Row(App='Photo Editor & Candy Camera & Grid & ScrapBook', Category='ART_AND_DESIGN', Rating=4.1, Reviews='159', Size='19M', Installs='10,000+', Type='Free', Price='0', Content Rating='Everyone', Genres='Art & Design', Last Updated='January 7, 2018', Current Ver='1.0.0', Android Ver='4.0.3 and up')),\n",
              " ('Coloring book moana',\n",
              "  Row(App='Coloring book moana', Category='ART_AND_DESIGN', Rating=3.9, Reviews='967', Size='14M', Installs='500,000+', Type='Free', Price='0', Content Rating='Everyone', Genres='Art & Design;Pretend Play', Last Updated='January 15, 2018', Current Ver='2.0.0', Android Ver='4.0.3 and up')),\n",
              " ('U Launcher Lite – FREE Live Cool Themes, Hide Apps',\n",
              "  Row(App='U Launcher Lite – FREE Live Cool Themes, Hide Apps', Category='ART_AND_DESIGN', Rating=4.7, Reviews='87510', Size='8.7M', Installs='5,000,000+', Type='Free', Price='0', Content Rating='Everyone', Genres='Art & Design', Last Updated='August 1, 2018', Current Ver='1.2.4', Android Ver='4.0.3 and up')),\n",
              " ('Sketch - Draw & Paint',\n",
              "  Row(App='Sketch - Draw & Paint', Category='ART_AND_DESIGN', Rating=4.5, Reviews='215644', Size='25M', Installs='50,000,000+', Type='Free', Price='0', Content Rating='Teen', Genres='Art & Design', Last Updated='June 8, 2018', Current Ver='Varies with device', Android Ver='4.2 and up')),\n",
              " ('Pixel Draw - Number Art Coloring Book',\n",
              "  Row(App='Pixel Draw - Number Art Coloring Book', Category='ART_AND_DESIGN', Rating=4.3, Reviews='967', Size='2.8M', Installs='100,000+', Type='Free', Price='0', Content Rating='Everyone', Genres='Art & Design;Creativity', Last Updated='June 20, 2018', Current Ver='1.1', Android Ver='4.4 and up'))]"
            ]
          },
          "metadata": {},
          "execution_count": 23
        }
      ]
    },
    {
      "cell_type": "markdown",
      "source": [
        "Eliminamos aquellas apps cuyo tamaño varia segun el dispositivo"
      ],
      "metadata": {
        "id": "bRp2rG3m3sV-"
      }
    },
    {
      "cell_type": "code",
      "source": [
        "rdd2 = rdd1.filter(lambda x: x[1].Size != \"Varies with device\").map(lambda x: x[1]).cache()\n",
        "rdd2.take(5)"
      ],
      "metadata": {
        "colab": {
          "base_uri": "https://localhost:8080/"
        },
        "id": "Jnr6fH-e3a6D",
        "outputId": "b8d0223f-39d8-46e8-baf1-32bc2a906ef3"
      },
      "execution_count": null,
      "outputs": [
        {
          "output_type": "execute_result",
          "data": {
            "text/plain": [
              "[Row(App='Photo Editor & Candy Camera & Grid & ScrapBook', Category='ART_AND_DESIGN', Rating=4.1, Reviews='159', Size='19M', Installs='10,000+', Type='Free', Price='0', Content Rating='Everyone', Genres='Art & Design', Last Updated='January 7, 2018', Current Ver='1.0.0', Android Ver='4.0.3 and up'),\n",
              " Row(App='Coloring book moana', Category='ART_AND_DESIGN', Rating=3.9, Reviews='967', Size='14M', Installs='500,000+', Type='Free', Price='0', Content Rating='Everyone', Genres='Art & Design;Pretend Play', Last Updated='January 15, 2018', Current Ver='2.0.0', Android Ver='4.0.3 and up'),\n",
              " Row(App='U Launcher Lite – FREE Live Cool Themes, Hide Apps', Category='ART_AND_DESIGN', Rating=4.7, Reviews='87510', Size='8.7M', Installs='5,000,000+', Type='Free', Price='0', Content Rating='Everyone', Genres='Art & Design', Last Updated='August 1, 2018', Current Ver='1.2.4', Android Ver='4.0.3 and up'),\n",
              " Row(App='Sketch - Draw & Paint', Category='ART_AND_DESIGN', Rating=4.5, Reviews='215644', Size='25M', Installs='50,000,000+', Type='Free', Price='0', Content Rating='Teen', Genres='Art & Design', Last Updated='June 8, 2018', Current Ver='Varies with device', Android Ver='4.2 and up'),\n",
              " Row(App='Pixel Draw - Number Art Coloring Book', Category='ART_AND_DESIGN', Rating=4.3, Reviews='967', Size='2.8M', Installs='100,000+', Type='Free', Price='0', Content Rating='Everyone', Genres='Art & Design;Creativity', Last Updated='June 20, 2018', Current Ver='1.1', Android Ver='4.4 and up')]"
            ]
          },
          "metadata": {},
          "execution_count": 24
        }
      ]
    },
    {
      "cell_type": "markdown",
      "source": [
        "Vemos que todos los tamaños terminan en M (megabytes) o k (kilobytes)"
      ],
      "metadata": {
        "id": "LQPru4VnhaYU"
      }
    },
    {
      "cell_type": "code",
      "source": [
        "rdd2.filter(lambda x: not x[4].endswith((\"k\", \"M\"))).count()"
      ],
      "metadata": {
        "colab": {
          "base_uri": "https://localhost:8080/"
        },
        "id": "OHIK0J1ihe67",
        "outputId": "0b27a8f8-031f-4703-9599-a4a46eec2bde"
      },
      "execution_count": null,
      "outputs": [
        {
          "output_type": "execute_result",
          "data": {
            "text/plain": [
              "0"
            ]
          },
          "metadata": {},
          "execution_count": 25
        }
      ]
    },
    {
      "cell_type": "markdown",
      "source": [
        "Tomamos como criterio usar todos los tamaños en kilobytes.\n",
        "A aquellos que estan en megabytes les sacamos la M y los multiplicamos por mil, y a aquellos que terminan en k se la sacamos.\n",
        "De paso nos quedamos unicamente con la version de android, el tamaño y un 1 que nos va a ayudar con el promedio."
      ],
      "metadata": {
        "id": "QjJcd2bW3vwl"
      }
    },
    {
      "cell_type": "code",
      "source": [
        "def convertir(tamanio):\n",
        "  if tamanio.endswith(\"M\"):\n",
        "    return float(tamanio[:-1]) * 1000\n",
        "  elif tamanio.endswith(\"k\"):\n",
        "    return float(tamanio[:-1])\n",
        "\n",
        "rdd3 = rdd2.map(lambda x: (x[12], (convertir(x[4]), 1)))\n",
        "rdd3.take(5)"
      ],
      "metadata": {
        "colab": {
          "base_uri": "https://localhost:8080/"
        },
        "id": "eCyegvPg4jKb",
        "outputId": "59d432c7-7c94-44f7-b6ec-939238b88647"
      },
      "execution_count": null,
      "outputs": [
        {
          "output_type": "execute_result",
          "data": {
            "text/plain": [
              "[('4.0.3 and up', (19000.0, 1)),\n",
              " ('4.0.3 and up', (14000.0, 1)),\n",
              " ('4.0.3 and up', (8700.0, 1)),\n",
              " ('4.2 and up', (25000.0, 1)),\n",
              " ('4.4 and up', (2800.0, 1))]"
            ]
          },
          "metadata": {},
          "execution_count": 26
        }
      ]
    },
    {
      "cell_type": "markdown",
      "source": [
        "Por version de android, sumamos los tamaños de las apps de esa version y los 1, para saber la cantidad de apps de esa version. Cacheamos ya que queremos verificar la cantidad de versiones así si son pocas, hacer un collect"
      ],
      "metadata": {
        "id": "FZZaZZ7o4zFf"
      }
    },
    {
      "cell_type": "code",
      "source": [
        "rdd4 = rdd3.reduceByKey(lambda a, b : (int(a[0]) + int(b[0]), a[1] + b[1])).cache()\n",
        "rdd4.count()"
      ],
      "metadata": {
        "colab": {
          "base_uri": "https://localhost:8080/"
        },
        "id": "pcL-X_GlCnQ6",
        "outputId": "bc7a19d6-c9a1-42df-e251-b8495e5211a0"
      },
      "execution_count": null,
      "outputs": [
        {
          "output_type": "execute_result",
          "data": {
            "text/plain": [
              "34"
            ]
          },
          "metadata": {},
          "execution_count": 27
        }
      ]
    },
    {
      "cell_type": "code",
      "source": [
        "rdd4.collect()"
      ],
      "metadata": {
        "colab": {
          "base_uri": "https://localhost:8080/"
        },
        "id": "2hXkkVA_VRRX",
        "outputId": "642ddfbb-c25b-4e8d-ad35-4ee6d1b9db4b"
      },
      "execution_count": null,
      "outputs": [
        {
          "output_type": "execute_result",
          "data": {
            "text/plain": [
              "[('4.0.3 and up', (28838254, 1359)),\n",
              " ('4.2 and up', (7466115, 353)),\n",
              " ('4.4 and up', (19557761, 774)),\n",
              " ('2.3 and up', (12279570, 606)),\n",
              " ('3.0 and up', (3171941, 231)),\n",
              " ('4.1 and up', (51019582, 2102)),\n",
              " ('4.0 and up', (20810197, 1262)),\n",
              " ('2.2 and up', (1940138, 236)),\n",
              " ('5.0 and up', (11352992, 487)),\n",
              " ('6.0 and up', (992634, 51)),\n",
              " ('1.6 and up', (361820, 116)),\n",
              " ('2.1 and up', (742732, 133)),\n",
              " ('5.1 and up', (505313, 21)),\n",
              " ('1.5 and up', (96361, 19)),\n",
              " ('7.0 and up', (972586, 40)),\n",
              " ('4.3 and up', (4647776, 212)),\n",
              " ('4.0.3 - 7.1.1', (13200, 2)),\n",
              " ('2.0 and up', (193961, 31)),\n",
              " ('2.3.3 and up', (5001637, 268)),\n",
              " ('Varies with device', (916014, 46)),\n",
              " ('3.2 and up', (354983, 36)),\n",
              " ('4.4W and up', (155400, 11)),\n",
              " ('7.1 and up', (64008, 2)),\n",
              " ('7.0 - 7.1.1', (7100.0, 1)),\n",
              " ('8.0 and up', (120500, 6)),\n",
              " ('5.0 - 8.0', (47600, 2)),\n",
              " ('3.1 and up', (134138, 10)),\n",
              " ('2.0.1 and up', (155555, 7)),\n",
              " ('4.1 - 7.1.1', (7900.0, 1)),\n",
              " ('NaN', (13100, 2)),\n",
              " ('5.0 - 6.0', (11000.0, 1)),\n",
              " ('1.0 and up', (7711, 2)),\n",
              " ('2.2 - 7.1.1', (5100.0, 1)),\n",
              " ('5.0 - 7.1.1', (8400.0, 1))]"
            ]
          },
          "metadata": {},
          "execution_count": 28
        }
      ]
    },
    {
      "cell_type": "markdown",
      "source": [
        "Vemos que hay una version NaN, en mi criterio, la eliminamos"
      ],
      "metadata": {
        "id": "kWyPYtT_X2t5"
      }
    },
    {
      "cell_type": "code",
      "source": [
        "rdd5 = rdd4.filter(lambda x: x[0] != \"NaN\")\n",
        "rdd5.collect()"
      ],
      "metadata": {
        "colab": {
          "base_uri": "https://localhost:8080/"
        },
        "id": "RoAFadbNXNLv",
        "outputId": "6fd17b60-ef6c-481a-cfef-da27027848c2"
      },
      "execution_count": null,
      "outputs": [
        {
          "output_type": "execute_result",
          "data": {
            "text/plain": [
              "[('4.0.3 and up', (28838254, 1359)),\n",
              " ('4.2 and up', (7466115, 353)),\n",
              " ('4.4 and up', (19557761, 774)),\n",
              " ('2.3 and up', (12279570, 606)),\n",
              " ('3.0 and up', (3171941, 231)),\n",
              " ('4.1 and up', (51019582, 2102)),\n",
              " ('4.0 and up', (20810197, 1262)),\n",
              " ('2.2 and up', (1940138, 236)),\n",
              " ('5.0 and up', (11352992, 487)),\n",
              " ('6.0 and up', (992634, 51)),\n",
              " ('1.6 and up', (361820, 116)),\n",
              " ('2.1 and up', (742732, 133)),\n",
              " ('5.1 and up', (505313, 21)),\n",
              " ('1.5 and up', (96361, 19)),\n",
              " ('7.0 and up', (972586, 40)),\n",
              " ('4.3 and up', (4647776, 212)),\n",
              " ('4.0.3 - 7.1.1', (13200, 2)),\n",
              " ('2.0 and up', (193961, 31)),\n",
              " ('2.3.3 and up', (5001637, 268)),\n",
              " ('Varies with device', (916014, 46)),\n",
              " ('3.2 and up', (354983, 36)),\n",
              " ('4.4W and up', (155400, 11)),\n",
              " ('7.1 and up', (64008, 2)),\n",
              " ('7.0 - 7.1.1', (7100.0, 1)),\n",
              " ('8.0 and up', (120500, 6)),\n",
              " ('5.0 - 8.0', (47600, 2)),\n",
              " ('3.1 and up', (134138, 10)),\n",
              " ('2.0.1 and up', (155555, 7)),\n",
              " ('4.1 - 7.1.1', (7900.0, 1)),\n",
              " ('5.0 - 6.0', (11000.0, 1)),\n",
              " ('1.0 and up', (7711, 2)),\n",
              " ('2.2 - 7.1.1', (5100.0, 1)),\n",
              " ('5.0 - 7.1.1', (8400.0, 1))]"
            ]
          },
          "metadata": {},
          "execution_count": 29
        }
      ]
    },
    {
      "cell_type": "markdown",
      "source": [
        "Por ultimo, calculamos el promedio de tamaño de cada version de android (en kilobytes) (podemos hacer collect ya que son pocas versiones)"
      ],
      "metadata": {
        "id": "skfN2K5e46gt"
      }
    },
    {
      "cell_type": "code",
      "source": [
        "rdd6 = rdd5.map(lambda x: (x[0], x[1][0] / x[1][1]))\n",
        "rdd6.collect()"
      ],
      "metadata": {
        "colab": {
          "base_uri": "https://localhost:8080/"
        },
        "id": "3UXHDyivEtyw",
        "outputId": "f1dda62d-e9a8-4960-dfbf-ad73c8572699"
      },
      "execution_count": null,
      "outputs": [
        {
          "output_type": "execute_result",
          "data": {
            "text/plain": [
              "[('4.0.3 and up', 21220.201618837382),\n",
              " ('4.2 and up', 21150.467422096317),\n",
              " ('4.4 and up', 25268.425064599483),\n",
              " ('2.3 and up', 20263.31683168317),\n",
              " ('3.0 and up', 13731.34632034632),\n",
              " ('4.1 and up', 24271.92293054234),\n",
              " ('4.0 and up', 16489.85499207607),\n",
              " ('2.2 and up', 8220.92372881356),\n",
              " ('5.0 and up', 23312.098562628336),\n",
              " ('6.0 and up', 19463.41176470588),\n",
              " ('1.6 and up', 3119.137931034483),\n",
              " ('2.1 and up', 5584.451127819549),\n",
              " ('5.1 and up', 24062.52380952381),\n",
              " ('1.5 and up', 5071.631578947368),\n",
              " ('7.0 and up', 24314.65),\n",
              " ('4.3 and up', 21923.471698113208),\n",
              " ('4.0.3 - 7.1.1', 6600.0),\n",
              " ('2.0 and up', 6256.806451612903),\n",
              " ('2.3.3 and up', 18662.824626865673),\n",
              " ('Varies with device', 19913.347826086956),\n",
              " ('3.2 and up', 9860.638888888889),\n",
              " ('4.4W and up', 14127.272727272728),\n",
              " ('7.1 and up', 32004.0),\n",
              " ('7.0 - 7.1.1', 7100.0),\n",
              " ('8.0 and up', 20083.333333333332),\n",
              " ('5.0 - 8.0', 23800.0),\n",
              " ('3.1 and up', 13413.8),\n",
              " ('2.0.1 and up', 22222.14285714286),\n",
              " ('4.1 - 7.1.1', 7900.0),\n",
              " ('5.0 - 6.0', 11000.0),\n",
              " ('1.0 and up', 3855.5),\n",
              " ('2.2 - 7.1.1', 5100.0),\n",
              " ('5.0 - 7.1.1', 8400.0)]"
            ]
          },
          "metadata": {},
          "execution_count": 30
        }
      ]
    },
    {
      "cell_type": "markdown",
      "source": [
        "Podemos incluso dividir los tamaños por mil para mostrar el promedio en megabytes"
      ],
      "metadata": {
        "id": "LBgoLr6W4_0t"
      }
    },
    {
      "cell_type": "code",
      "source": [
        "aux = rdd6.map(lambda x: (x[0], x[1] / 1000))\n",
        "aux.collect()"
      ],
      "metadata": {
        "colab": {
          "base_uri": "https://localhost:8080/"
        },
        "id": "yTHNJcArFGrw",
        "outputId": "3493cfbc-5766-4a08-b504-62faad3d30b1"
      },
      "execution_count": null,
      "outputs": [
        {
          "output_type": "execute_result",
          "data": {
            "text/plain": [
              "[('4.0.3 and up', 21.220201618837383),\n",
              " ('4.2 and up', 21.150467422096316),\n",
              " ('4.4 and up', 25.268425064599484),\n",
              " ('2.3 and up', 20.26331683168317),\n",
              " ('3.0 and up', 13.73134632034632),\n",
              " ('4.1 and up', 24.27192293054234),\n",
              " ('4.0 and up', 16.489854992076072),\n",
              " ('2.2 and up', 8.22092372881356),\n",
              " ('5.0 and up', 23.312098562628336),\n",
              " ('6.0 and up', 19.46341176470588),\n",
              " ('1.6 and up', 3.1191379310344827),\n",
              " ('2.1 and up', 5.584451127819548),\n",
              " ('5.1 and up', 24.06252380952381),\n",
              " ('1.5 and up', 5.071631578947368),\n",
              " ('7.0 and up', 24.31465),\n",
              " ('4.3 and up', 21.923471698113207),\n",
              " ('4.0.3 - 7.1.1', 6.6),\n",
              " ('2.0 and up', 6.256806451612904),\n",
              " ('2.3.3 and up', 18.662824626865675),\n",
              " ('Varies with device', 19.913347826086955),\n",
              " ('3.2 and up', 9.86063888888889),\n",
              " ('4.4W and up', 14.127272727272729),\n",
              " ('7.1 and up', 32.004),\n",
              " ('7.0 - 7.1.1', 7.1),\n",
              " ('8.0 and up', 20.083333333333332),\n",
              " ('5.0 - 8.0', 23.8),\n",
              " ('3.1 and up', 13.413799999999998),\n",
              " ('2.0.1 and up', 22.22214285714286),\n",
              " ('4.1 - 7.1.1', 7.9),\n",
              " ('5.0 - 6.0', 11.0),\n",
              " ('1.0 and up', 3.8555),\n",
              " ('2.2 - 7.1.1', 5.1),\n",
              " ('5.0 - 7.1.1', 8.4)]"
            ]
          },
          "metadata": {},
          "execution_count": 31
        }
      ]
    }
  ]
}